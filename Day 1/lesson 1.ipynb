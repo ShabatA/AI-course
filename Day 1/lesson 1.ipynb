{
  "nbformat": 4,
  "nbformat_minor": 0,
  "metadata": {
    "colab": {
      "name": "lesson 1.ipynb",
      "version": "0.3.2",
      "provenance": [],
      "include_colab_link": true
    },
    "kernelspec": {
      "display_name": "Python 3",
      "language": "python",
      "name": "python3"
    }
  },
  "cells": [
    {
      "cell_type": "markdown",
      "metadata": {
        "id": "view-in-github",
        "colab_type": "text"
      },
      "source": [
        "<a href=\"https://colab.research.google.com/github/ShabatA/AI-course/blob/master/Day%201/lesson%201.ipynb\" target=\"_parent\"><img src=\"https://colab.research.google.com/assets/colab-badge.svg\" alt=\"Open In Colab\"/></a>"
      ]
    },
    {
      "metadata": {
        "id": "aPZLqLILXtdN",
        "colab_type": "text"
      },
      "cell_type": "markdown",
      "source": [
        "# Hello, Python!\n",
        "\n",
        "Python was named for the British comedy troupe [Monty Python](https://en.wikipedia.org/wiki/Monty_Python) (1991 first release). \n",
        "\n",
        "\n",
        " It can be used for just about anything, which is why it’s considered so versatile. You can build Raspberry Pi applications, scripts for desktop programs and configure servers all via Python, but it’s not limited to just those tasks.\n",
        "\n",
        "With Python, there really are no limits."
      ]
    },
    {
      "metadata": {
        "id": "hXuroaJXiDWl",
        "colab_type": "text"
      },
      "cell_type": "markdown",
      "source": [
        "### Why Python?\n",
        "\n",
        "\n",
        "*   Extensive Support Libraries (Web, Machine Learning, Data science and so much more)\n",
        "*   Integration Feature (Jython, Cython,.....)\n",
        "\n",
        "\n"
      ]
    },
    {
      "metadata": {
        "id": "uC5kEF_4XtdQ",
        "colab_type": "text"
      },
      "cell_type": "markdown",
      "source": [
        "## Creating a variable\n",
        "\n",
        "Here we create a variable called `shopping_list` and assign it the value of 0 using `=`, Python's assignment operator.\n",
        "\n",
        "Unlike other programming languages, Python has no command for declaring a variable.\n",
        "\n",
        "Variables do not need to be declared with any particular type and can even change type after they have been set."
      ]
    },
    {
      "metadata": {
        "id": "75Mfgzd_XtdQ",
        "colab_type": "code",
        "outputId": "e7ef86f9-d45c-4fa6-da4d-24c780ff8301",
        "colab": {
          "base_uri": "https://localhost:8080/",
          "height": 34
        }
      },
      "cell_type": "code",
      "source": [
        "l = 0\n",
        "print(l)"
      ],
      "execution_count": 1,
      "outputs": [
        {
          "output_type": "stream",
          "text": [
            "0\n"
          ],
          "name": "stdout"
        }
      ]
    },
    {
      "metadata": {
        "id": "lqCy18pbXtdX",
        "colab_type": "code",
        "outputId": "90bbb7c7-c768-4711-a691-93ccd16705fb",
        "colab": {}
      },
      "cell_type": "code",
      "source": [
        "x = 5\n",
        "y = \"John\"\n",
        "print(x)\n",
        "print(y)"
      ],
      "execution_count": 0,
      "outputs": [
        {
          "output_type": "stream",
          "text": [
            "5\n",
            "John\n"
          ],
          "name": "stdout"
        }
      ]
    },
    {
      "metadata": {
        "id": "-Wq8iKO3Xtdd",
        "colab_type": "text"
      },
      "cell_type": "markdown",
      "source": [
        "## Variable Names\n",
        "* must start with a letter or the underscore character\n",
        "* cannot start with a number\n",
        "* can only contain alpha-numeric characters and underscores (A-z, 0-9, and _ )\n",
        "* case-sensitive (age, Age and AGE are three different variables)\n"
      ]
    },
    {
      "metadata": {
        "id": "VHcZ6X_fXtdd",
        "colab_type": "text"
      },
      "cell_type": "markdown",
      "source": [
        "A **function call**. `print` is an extremely useful builtin Python function that displays the value passed to it on the screen. We call functions by putting parentheses after their name, with the inputs to the function (or *arguments*) in between."
      ]
    },
    {
      "metadata": {
        "id": "c9EgDZJyXtde",
        "colab_type": "code",
        "outputId": "b80e8b8c-3c00-4e2c-8de6-e1538edeb2a9",
        "colab": {
          "base_uri": "https://localhost:8080/",
          "height": 34
        }
      },
      "cell_type": "code",
      "source": [
        "print(l)"
      ],
      "execution_count": 2,
      "outputs": [
        {
          "output_type": "stream",
          "text": [
            "0\n"
          ],
          "name": "stdout"
        }
      ]
    },
    {
      "metadata": {
        "id": "xobr7DiCkWiy",
        "colab_type": "code",
        "colab": {}
      },
      "cell_type": "code",
      "source": [
        "shopping_list = 0"
      ],
      "execution_count": 0,
      "outputs": []
    },
    {
      "metadata": {
        "id": "bJy_IIA8Xtdh",
        "colab_type": "text"
      },
      "cell_type": "markdown",
      "source": [
        "The first line above is a **comment**. In Python, comments begin with the `#` symbol.\n",
        "\n",
        "Next we see an example of reassignment. Reassigning the value of an existing variable looks just the same as creating a variable - it still uses the `=` assignment operator.\n",
        "\n",
        "In this case, the value we're assigning to `shopping_list` involves a little simple arithmetic on its previous value. When it encounters this line, Python evaluates the expression on the right-hand-side of the `=` (0 + 4 = 4), and then assigns that value to the variable on the left-hand-side."
      ]
    },
    {
      "metadata": {
        "id": "_HnDuD9TXtdi",
        "colab_type": "code",
        "outputId": "895074d1-2a21-4c46-ecb0-c35dfae2e5e2",
        "colab": {
          "base_uri": "https://localhost:8080/",
          "height": 34
        }
      },
      "cell_type": "code",
      "source": [
        "# Ordering egg, Milk, tea, bread\n",
        "amount = shopping_list + 4\n",
        "\n",
        "print(amount)"
      ],
      "execution_count": 4,
      "outputs": [
        {
          "output_type": "stream",
          "text": [
            "4\n"
          ],
          "name": "stdout"
        }
      ]
    },
    {
      "metadata": {
        "id": "-so2yyWcXtdn",
        "colab_type": "text"
      },
      "cell_type": "markdown",
      "source": [
        "The `*` operator can be used to multiply two numbers (`3 * 3` evaluates to 9), but amusingly enough, we can also multiply a string by a number, to get a version that's been repeated that many times. Python offers a number of cheeky little time-saving tricks like this where operators like `*` and `+` have a different meaning depending on what kind of thing they're applied to."
      ]
    },
    {
      "metadata": {
        "id": "DIdfNXs9Xtdn",
        "colab_type": "code",
        "outputId": "e852d3e1-0eed-4ada-e425-131f9c09b443",
        "colab": {
          "base_uri": "https://localhost:8080/",
          "height": 34
        }
      },
      "cell_type": "code",
      "source": [
        "x = 3\n",
        "print(x*3)"
      ],
      "execution_count": 0,
      "outputs": [
        {
          "output_type": "stream",
          "text": [
            "9\n"
          ],
          "name": "stdout"
        }
      ]
    },
    {
      "metadata": {
        "id": "SlZP8ntHXtdr",
        "colab_type": "code",
        "outputId": "bdabbec4-0d33-4e9a-edcd-ce844e367317",
        "colab": {
          "base_uri": "https://localhost:8080/",
          "height": 34
        }
      },
      "cell_type": "code",
      "source": [
        "x = 'Hello'\n",
        "print(x * 3)"
      ],
      "execution_count": 0,
      "outputs": [
        {
          "output_type": "stream",
          "text": [
            "HelloHelloHello\n"
          ],
          "name": "stdout"
        }
      ]
    },
    {
      "metadata": {
        "id": "zgCj1q31Xtdw",
        "colab_type": "text"
      },
      "cell_type": "markdown",
      "source": [
        "## Numbers and arithmetic in Python\n",
        "\n",
        "We've already seen an example of a variable containing a number above:"
      ]
    },
    {
      "metadata": {
        "id": "a6KNiABwXtdy",
        "colab_type": "code",
        "colab": {}
      },
      "cell_type": "code",
      "source": [
        "shopping_list = 0"
      ],
      "execution_count": 0,
      "outputs": []
    },
    {
      "metadata": {
        "id": "6ySk9-92Xtd0",
        "colab_type": "text"
      },
      "cell_type": "markdown",
      "source": [
        "\"Number\" is a fine informal name for the kind of thing, but if we wanted to be more technical, we could ask Python how it would describe the type of thing that `shopping_list` is:"
      ]
    },
    {
      "metadata": {
        "id": "S9Mvv55hXtd0",
        "colab_type": "code",
        "outputId": "21484bde-f607-43fb-f85e-388247c05bc7",
        "colab": {
          "base_uri": "https://localhost:8080/",
          "height": 34
        }
      },
      "cell_type": "code",
      "source": [
        "type(shopping_list)"
      ],
      "execution_count": 0,
      "outputs": [
        {
          "output_type": "execute_result",
          "data": {
            "text/plain": [
              "int"
            ]
          },
          "metadata": {
            "tags": []
          },
          "execution_count": 9
        }
      ]
    },
    {
      "metadata": {
        "id": "SpNzjFVpXtd4",
        "colab_type": "text"
      },
      "cell_type": "markdown",
      "source": [
        "It's an `int` - short for integer. There's another sort of number we commonly encounter in Python:"
      ]
    },
    {
      "metadata": {
        "id": "BPq4OvK3Xtd4",
        "colab_type": "code",
        "outputId": "52f93147-e61f-441d-8e42-e0a2dededbee",
        "colab": {
          "base_uri": "https://localhost:8080/",
          "height": 34
        }
      },
      "cell_type": "code",
      "source": [
        "type(19.95)"
      ],
      "execution_count": 0,
      "outputs": [
        {
          "output_type": "execute_result",
          "data": {
            "text/plain": [
              "float"
            ]
          },
          "metadata": {
            "tags": []
          },
          "execution_count": 10
        }
      ]
    },
    {
      "metadata": {
        "id": "PoKW-ooaXtd9",
        "colab_type": "text"
      },
      "cell_type": "markdown",
      "source": [
        "A `float` is a number with a decimal place - very useful for representing things like weights or proportions.\n",
        "\n",
        "`type()` is the second built-in function we've seen (after `print()`), and it's another good one to remember. It's very useful to be able to ask Python \"what kind of thing is this?\". "
      ]
    },
    {
      "metadata": {
        "id": "2vHcBseZXtd_",
        "colab_type": "text"
      },
      "cell_type": "markdown",
      "source": [
        "A natural thing to want to do with numbers is perform arithmetic. We've seen the `+` operator for addition, and the `*` operator for multiplication (of a sort). Python also has us covered for the rest of the basic buttons on your calculator:\n",
        "\n",
        "| Operator     | Name           | Description                                            |\n",
        "|--------------|----------------|--------------------------------------------------------|\n",
        "| ``a + b``    | Addition       | Sum of ``a`` and ``b``                                 |\n",
        "| ``a - b``    | Subtraction    | Difference of ``a`` and ``b``                          |\n",
        "| ``a * b``    | Multiplication | Product of ``a`` and ``b``                             |\n",
        "| ``a / b``    | True division  | Quotient of ``a`` and ``b``                            |\n",
        "| ``a // b``   | Floor division | Quotient of ``a`` and ``b``, removing fractional parts |\n",
        "| ``a % b``    | Modulus        | Integer remainder after division of ``a`` by ``b``     |\n",
        "| ``a ** b``   | Exponentiation | ``a`` raised to the power of ``b``                     |\n",
        "| ``-a``       | Negation       | The negative of ``a``                                  |\n",
        "\n",
        "<span style=\"display:none\">hack</span>\n",
        "\n",
        "One interesting observation here is that, whereas your calculator probably just has one button for division, Python can do two kinds. \"True division\" is basically what your calculator does:"
      ]
    },
    {
      "metadata": {
        "id": "CHQKw0V5Xtd_",
        "colab_type": "code",
        "outputId": "ea820f63-3eda-47df-9a8c-118e4fa4a587",
        "colab": {
          "base_uri": "https://localhost:8080/",
          "height": 51
        }
      },
      "cell_type": "code",
      "source": [
        "print(5 / 2)\n",
        "print(6 / 2)"
      ],
      "execution_count": 0,
      "outputs": [
        {
          "output_type": "stream",
          "text": [
            "2.5\n",
            "3.0\n"
          ],
          "name": "stdout"
        }
      ]
    },
    {
      "metadata": {
        "id": "bWsv0YlBXteC",
        "colab_type": "text"
      },
      "cell_type": "markdown",
      "source": [
        "It always gives us a `float`. \n",
        "\n",
        "The `//` operator gives us a result that's rounded down to the next integer."
      ]
    },
    {
      "metadata": {
        "id": "wZvXgUW1XteC",
        "colab_type": "code",
        "outputId": "3e83579b-e754-4ccd-a049-ab03f4eb8bed",
        "colab": {
          "base_uri": "https://localhost:8080/",
          "height": 51
        }
      },
      "cell_type": "code",
      "source": [
        "print(5 // 2)\n",
        "print(6 // 2)"
      ],
      "execution_count": 0,
      "outputs": [
        {
          "output_type": "stream",
          "text": [
            "2\n",
            "3\n"
          ],
          "name": "stdout"
        }
      ]
    },
    {
      "metadata": {
        "id": "-oaxM2sCXteH",
        "colab_type": "text"
      },
      "cell_type": "markdown",
      "source": [
        "### Order of operations\n",
        "\n",
        "The arithmetic we learned in primary school has conventions about the order in which operations are evaluated. Some remember these by a mnemonic such as **PEMDAS** - **P**arentheses, **E**xponents, **M**ultiplication/**D**ivision, **A**ddition/**S**ubtraction.\n",
        "\n",
        "Python follows similar rules about which calculations to perform first. They're mostly pretty intuitive."
      ]
    },
    {
      "metadata": {
        "id": "MI53npTcXteI",
        "colab_type": "code",
        "outputId": "a1a04f4a-d092-4eb2-a834-79a36ef22763",
        "colab": {
          "base_uri": "https://localhost:8080/",
          "height": 34
        }
      },
      "cell_type": "code",
      "source": [
        "8 - 3 + 2"
      ],
      "execution_count": 0,
      "outputs": [
        {
          "output_type": "execute_result",
          "data": {
            "text/plain": [
              "7"
            ]
          },
          "metadata": {
            "tags": []
          },
          "execution_count": 13
        }
      ]
    },
    {
      "metadata": {
        "id": "39zg5SAsXteO",
        "colab_type": "code",
        "outputId": "cca7d32c-f416-4455-ff93-498a8093f71f",
        "colab": {
          "base_uri": "https://localhost:8080/",
          "height": 34
        }
      },
      "cell_type": "code",
      "source": [
        "-3 + 4 * 2"
      ],
      "execution_count": 0,
      "outputs": [
        {
          "output_type": "execute_result",
          "data": {
            "text/plain": [
              "5"
            ]
          },
          "metadata": {
            "tags": []
          },
          "execution_count": 14
        }
      ]
    },
    {
      "metadata": {
        "id": "H9NZ1p-oXteQ",
        "colab_type": "text"
      },
      "cell_type": "markdown",
      "source": [
        "Sometimes the default order of operations isn't what we want:"
      ]
    },
    {
      "metadata": {
        "id": "hyqk3zkOXteR",
        "colab_type": "code",
        "outputId": "dd2b4981-122b-4597-a177-1ae68eea0f53",
        "colab": {
          "base_uri": "https://localhost:8080/",
          "height": 34
        }
      },
      "cell_type": "code",
      "source": [
        "hat_height_cm = 25\n",
        "my_height_cm = 190\n",
        "# How tall am I, in meters, when wearing my hat?\n",
        "total_height_meters = hat_height_cm + my_height_cm / 100\n",
        "print(\"Height in meters =\", total_height_meters, \"?\")"
      ],
      "execution_count": 0,
      "outputs": [
        {
          "output_type": "stream",
          "text": [
            "Height in meters = 26.9 ?\n"
          ],
          "name": "stdout"
        }
      ]
    },
    {
      "metadata": {
        "id": "EZsDiONCXteV",
        "colab_type": "text"
      },
      "cell_type": "markdown",
      "source": [
        "Parentheses are your trump card. You can add them to force Python to evaluate sub-expressions in a different order (or just to make your code easier to read)."
      ]
    },
    {
      "metadata": {
        "id": "jrI1GLOQXteV",
        "colab_type": "code",
        "outputId": "2460221b-f3b5-424e-d150-21653da0922d",
        "colab": {
          "base_uri": "https://localhost:8080/",
          "height": 34
        }
      },
      "cell_type": "code",
      "source": [
        "total_height_meters = (hat_height_cm + my_height_cm) / 100\n",
        "print(\"Height in meters =\", total_height_meters)"
      ],
      "execution_count": 0,
      "outputs": [
        {
          "output_type": "stream",
          "text": [
            "Height in meters = 2.15\n"
          ],
          "name": "stdout"
        }
      ]
    },
    {
      "metadata": {
        "id": "ZqxUe_I3XteZ",
        "colab_type": "text"
      },
      "cell_type": "markdown",
      "source": [
        "### Builtin functions for working with numbers\n",
        "\n",
        "`min` and `max` return the minimum and maximum of their arguments, respectively..."
      ]
    },
    {
      "metadata": {
        "id": "9iZ_tolxXteZ",
        "colab_type": "code",
        "outputId": "022dde83-96d7-4d1d-bfec-e795f99bb5e9",
        "colab": {
          "base_uri": "https://localhost:8080/",
          "height": 51
        }
      },
      "cell_type": "code",
      "source": [
        "print(min(1, 2, 3))\n",
        "print(max(1, 2, 3))"
      ],
      "execution_count": 0,
      "outputs": [
        {
          "output_type": "stream",
          "text": [
            "1\n",
            "3\n"
          ],
          "name": "stdout"
        }
      ]
    },
    {
      "metadata": {
        "id": "PgLNHddUXted",
        "colab_type": "text"
      },
      "cell_type": "markdown",
      "source": [
        "`abs` returns the absolute value of it argument:"
      ]
    },
    {
      "metadata": {
        "id": "T4lnoppIXtee",
        "colab_type": "code",
        "outputId": "b47596cb-9130-4f39-967e-ef44e791c9dc",
        "colab": {
          "base_uri": "https://localhost:8080/",
          "height": 51
        }
      },
      "cell_type": "code",
      "source": [
        "print(abs(32))\n",
        "print(abs(-32))"
      ],
      "execution_count": 0,
      "outputs": [
        {
          "output_type": "stream",
          "text": [
            "32\n",
            "32\n"
          ],
          "name": "stdout"
        }
      ]
    },
    {
      "metadata": {
        "id": "dXnU5kz5Xteg",
        "colab_type": "text"
      },
      "cell_type": "markdown",
      "source": [
        "In addition to being the names of Python's two main numerical types, `int` and `float` can also be called as functions which convert their arguments to the corresponding type:"
      ]
    },
    {
      "metadata": {
        "id": "Qx3wYx7OXteh",
        "colab_type": "code",
        "outputId": "974cb9c0-4b31-42f1-f20e-564a8879b2cb",
        "colab": {
          "base_uri": "https://localhost:8080/",
          "height": 68
        }
      },
      "cell_type": "code",
      "source": [
        "print(float(10))\n",
        "print(int(3.33))\n",
        "# They can even be called on strings!\n",
        "print(int('807') + 1)"
      ],
      "execution_count": 0,
      "outputs": [
        {
          "output_type": "stream",
          "text": [
            "10.0\n",
            "3\n",
            "808\n"
          ],
          "name": "stdout"
        }
      ]
    },
    {
      "metadata": {
        "id": "-pSUFJw4YR6i",
        "colab_type": "code",
        "colab": {}
      },
      "cell_type": "code",
      "source": [
        ""
      ],
      "execution_count": 0,
      "outputs": []
    }
  ]
}