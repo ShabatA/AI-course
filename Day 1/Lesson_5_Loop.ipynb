{
  "nbformat": 4,
  "nbformat_minor": 0,
  "metadata": {
    "colab": {
      "name": "Lesson 5_Loop.ipynb",
      "version": "0.3.2",
      "provenance": [],
      "include_colab_link": true
    },
    "kernelspec": {
      "display_name": "Python 3",
      "language": "python",
      "name": "python3"
    }
  },
  "cells": [
    {
      "cell_type": "markdown",
      "metadata": {
        "id": "view-in-github",
        "colab_type": "text"
      },
      "source": [
        "<a href=\"https://colab.research.google.com/github/ShabatA/AI-course/blob/master/Day%201/Lesson_5_Loop.ipynb\" target=\"_parent\"><img src=\"https://colab.research.google.com/assets/colab-badge.svg\" alt=\"Open In Colab\"/></a>"
      ]
    },
    {
      "metadata": {
        "id": "mScUIkld0thw",
        "colab_type": "text"
      },
      "cell_type": "markdown",
      "source": [
        "# Loops\n",
        "\n",
        "Loops are a way to repeatedly execute some code statement."
      ]
    },
    {
      "metadata": {
        "id": "nvYWI4R5hYLQ",
        "colab_type": "code",
        "outputId": "1d0fe200-bfa0-44fa-e6bc-b30e09926ea4",
        "colab": {
          "base_uri": "https://localhost:8080/",
          "height": 139
        }
      },
      "cell_type": "code",
      "source": [
        "n = 5\n",
        "while n > 0 :\n",
        "  print (n)\n",
        "  n=n-1\n",
        "\n",
        "print('Blastoff!')\n",
        "print(n)"
      ],
      "execution_count": 0,
      "outputs": [
        {
          "output_type": "stream",
          "text": [
            "5\n",
            "4\n",
            "3\n",
            "2\n",
            "1\n",
            "Blastoff!\n",
            "0\n"
          ],
          "name": "stdout"
        }
      ]
    },
    {
      "metadata": {
        "id": "apVM2QMxhvSy",
        "colab_type": "code",
        "outputId": "9f593a9b-c6d7-4135-90ff-d5e1b8ca31c4",
        "colab": {
          "base_uri": "https://localhost:8080/",
          "height": 89
        }
      },
      "cell_type": "code",
      "source": [
        "while True:\n",
        "  line = input('> ')\n",
        "  if line == 'done' :\n",
        "    break\n",
        "  print (line)\n",
        "  \n",
        "print ('Done!')"
      ],
      "execution_count": 0,
      "outputs": [
        {
          "output_type": "stream",
          "text": [
            "> >\n",
            ">\n",
            "> done\n",
            "Done!\n"
          ],
          "name": "stdout"
        }
      ]
    },
    {
      "metadata": {
        "id": "XleeUkk90thy",
        "colab_type": "code",
        "outputId": "12825398-b05e-4cdb-b65d-397ce738ca7d",
        "colab": {
          "base_uri": "https://localhost:8080/",
          "height": 35
        }
      },
      "cell_type": "code",
      "source": [
        "planets = ['Mercury', 'Venus', 'Earth', 'Mars', 'Jupiter', 'Saturn', 'Uranus', 'Neptune']\n",
        "for planet in planets:\n",
        "    print(planet, end=' ') # print all on same line"
      ],
      "execution_count": 0,
      "outputs": [
        {
          "output_type": "stream",
          "text": [
            "Mercury Venus Earth Mars Jupiter Saturn Uranus Neptune "
          ],
          "name": "stdout"
        }
      ]
    },
    {
      "metadata": {
        "id": "IbknQDGX0th1",
        "colab_type": "text"
      },
      "cell_type": "markdown",
      "source": [
        "Notice the simplicity of the ``for`` loop: we specify the variable we want to use, the sequence we want to loop over, and use the \"``in``\" keyword to link them together in an intuitive and readable way.\n",
        "\n",
        "The object to the right of the \"``in``\" can be any object that supports iteration. Basically, if it can be thought of as a sequence or collection of things, you can probably loop over it. In addition to lists, we can iterate over the elements of a tuple:"
      ]
    },
    {
      "metadata": {
        "id": "qiqgoQRI0th2",
        "colab_type": "code",
        "outputId": "cedf87ed-e291-44c2-f787-f79dd9ebfbbe",
        "colab": {
          "base_uri": "https://localhost:8080/",
          "height": 35
        }
      },
      "cell_type": "code",
      "source": [
        "multiplicands = (2, 2, 2, 3, 3, 5)\n",
        "product = 1\n",
        "for mult in multiplicands:\n",
        "    product = product * mult\n",
        "product"
      ],
      "execution_count": 0,
      "outputs": [
        {
          "output_type": "execute_result",
          "data": {
            "text/plain": [
              "360"
            ]
          },
          "metadata": {
            "tags": []
          },
          "execution_count": 1
        }
      ]
    },
    {
      "metadata": {
        "id": "l9KyLYtX0th5",
        "colab_type": "text"
      },
      "cell_type": "markdown",
      "source": [
        "And even iterate over each character in a string:"
      ]
    },
    {
      "metadata": {
        "id": "lDfIxgq10th6",
        "colab_type": "code",
        "outputId": "7244d846-5f4d-4cce-9ada-3ba225c29e02",
        "colab": {
          "base_uri": "https://localhost:8080/",
          "height": 35
        }
      },
      "cell_type": "code",
      "source": [
        "s = 'steganograpHy is the practicE of conceaLing a file, message, image,or video within another fiLe, message, image, Or video.'\n",
        "msg = ''\n",
        "# print all the uppercase letters in s, one at a time\n",
        "for char in s:\n",
        "    if char.isupper():\n",
        "        print(char, end='')\n",
        "        msg = msg + char"
      ],
      "execution_count": 0,
      "outputs": [
        {
          "output_type": "stream",
          "text": [
            "HELLO"
          ],
          "name": "stdout"
        }
      ]
    },
    {
      "metadata": {
        "id": "h3c0jwvRzBrS",
        "colab_type": "code",
        "outputId": "9c8293c5-36c5-4f31-8b3f-ab6dfb362294",
        "colab": {
          "base_uri": "https://localhost:8080/",
          "height": 35
        }
      },
      "cell_type": "code",
      "source": [
        "'H'+'E'"
      ],
      "execution_count": 0,
      "outputs": [
        {
          "output_type": "execute_result",
          "data": {
            "text/plain": [
              "'HE'"
            ]
          },
          "metadata": {
            "tags": []
          },
          "execution_count": 20
        }
      ]
    },
    {
      "metadata": {
        "id": "TMoQfHs0zE0U",
        "colab_type": "code",
        "outputId": "7a1643fd-9f0f-4291-a087-1f625e4714f7",
        "colab": {
          "base_uri": "https://localhost:8080/",
          "height": 35
        }
      },
      "cell_type": "code",
      "source": [
        "''+'H'"
      ],
      "execution_count": 0,
      "outputs": [
        {
          "output_type": "execute_result",
          "data": {
            "text/plain": [
              "'H'"
            ]
          },
          "metadata": {
            "tags": []
          },
          "execution_count": 21
        }
      ]
    },
    {
      "metadata": {
        "id": "H53Pv7PfyvyK",
        "colab_type": "code",
        "outputId": "4cd99dba-f6bc-4ad0-8c21-b5518503dd13",
        "colab": {
          "base_uri": "https://localhost:8080/",
          "height": 35
        }
      },
      "cell_type": "code",
      "source": [
        "msg"
      ],
      "execution_count": 0,
      "outputs": [
        {
          "output_type": "execute_result",
          "data": {
            "text/plain": [
              "'HELLO'"
            ]
          },
          "metadata": {
            "tags": []
          },
          "execution_count": 19
        }
      ]
    },
    {
      "metadata": {
        "id": "uabp5BRe0th8",
        "colab_type": "text"
      },
      "cell_type": "markdown",
      "source": [
        "### range()\n",
        "\n",
        "`range()` is a function that returns a sequence of numbers. It turns out to be very useful for writing loops.\n",
        "\n",
        "For example, if we want to repeat some action 5 times:"
      ]
    },
    {
      "metadata": {
        "id": "mXpAWtzG0th9",
        "colab_type": "code",
        "outputId": "3287e102-83b7-4cd6-af87-e57dbecf267a",
        "colab": {
          "base_uri": "https://localhost:8080/",
          "height": 104
        }
      },
      "cell_type": "code",
      "source": [
        "for i in range(5):\n",
        "    print(\"Doing important work. i =\", i)"
      ],
      "execution_count": 0,
      "outputs": [
        {
          "output_type": "stream",
          "text": [
            "Doing important work. i = 0\n",
            "Doing important work. i = 1\n",
            "Doing important work. i = 2\n",
            "Doing important work. i = 3\n",
            "Doing important work. i = 4\n"
          ],
          "name": "stdout"
        }
      ]
    },
    {
      "metadata": {
        "id": "ahOOsnfp0tiA",
        "colab_type": "text"
      },
      "cell_type": "markdown",
      "source": [
        "You might assume that `range(5)` returns the list `[0, 1, 2, 3, 4]`. The truth is a little bit more complicated:"
      ]
    },
    {
      "metadata": {
        "id": "GXgfoPD40tiB",
        "colab_type": "code",
        "outputId": "a14f72cf-4403-482b-b9c1-acb54ad52b3e",
        "colab": {
          "base_uri": "https://localhost:8080/",
          "height": 35
        }
      },
      "cell_type": "code",
      "source": [
        "r = range(5)\n",
        "r"
      ],
      "execution_count": 0,
      "outputs": [
        {
          "output_type": "execute_result",
          "data": {
            "text/plain": [
              "range(0, 5)"
            ]
          },
          "metadata": {
            "tags": []
          },
          "execution_count": 23
        }
      ]
    },
    {
      "metadata": {
        "id": "aFtECMl60tiD",
        "colab_type": "text"
      },
      "cell_type": "markdown",
      "source": [
        "`range` returns a \"range object\". It acts a lot like a list (it's iterable), but doesn't have all the same capabilities. As we saw in the [previous tutorial](https://www.kaggle.com/colinmorris/lists), we can call `help()` on an object like `r` to see Python's documentation on that object, including all of its methods. Click the 'output' button if you're curious about what the help page for a range object looks like."
      ]
    },
    {
      "metadata": {
        "id": "uLzI3kjz0tiE",
        "colab_type": "code",
        "outputId": "188a0e47-aab5-42d8-ec02-2b38b0ecc982",
        "colab": {
          "base_uri": "https://localhost:8080/",
          "height": 1421
        }
      },
      "cell_type": "code",
      "source": [
        "help(range)"
      ],
      "execution_count": 0,
      "outputs": [
        {
          "output_type": "stream",
          "text": [
            "Help on class range in module builtins:\n",
            "\n",
            "class range(object)\n",
            " |  range(stop) -> range object\n",
            " |  range(start, stop[, step]) -> range object\n",
            " |  \n",
            " |  Return an object that produces a sequence of integers from start (inclusive)\n",
            " |  to stop (exclusive) by step.  range(i, j) produces i, i+1, i+2, ..., j-1.\n",
            " |  start defaults to 0, and stop is omitted!  range(4) produces 0, 1, 2, 3.\n",
            " |  These are exactly the valid indices for a list of 4 elements.\n",
            " |  When step is given, it specifies the increment (or decrement).\n",
            " |  \n",
            " |  Methods defined here:\n",
            " |  \n",
            " |  __bool__(self, /)\n",
            " |      self != 0\n",
            " |  \n",
            " |  __contains__(self, key, /)\n",
            " |      Return key in self.\n",
            " |  \n",
            " |  __eq__(self, value, /)\n",
            " |      Return self==value.\n",
            " |  \n",
            " |  __ge__(self, value, /)\n",
            " |      Return self>=value.\n",
            " |  \n",
            " |  __getattribute__(self, name, /)\n",
            " |      Return getattr(self, name).\n",
            " |  \n",
            " |  __getitem__(self, key, /)\n",
            " |      Return self[key].\n",
            " |  \n",
            " |  __gt__(self, value, /)\n",
            " |      Return self>value.\n",
            " |  \n",
            " |  __hash__(self, /)\n",
            " |      Return hash(self).\n",
            " |  \n",
            " |  __iter__(self, /)\n",
            " |      Implement iter(self).\n",
            " |  \n",
            " |  __le__(self, value, /)\n",
            " |      Return self<=value.\n",
            " |  \n",
            " |  __len__(self, /)\n",
            " |      Return len(self).\n",
            " |  \n",
            " |  __lt__(self, value, /)\n",
            " |      Return self<value.\n",
            " |  \n",
            " |  __ne__(self, value, /)\n",
            " |      Return self!=value.\n",
            " |  \n",
            " |  __new__(*args, **kwargs) from builtins.type\n",
            " |      Create and return a new object.  See help(type) for accurate signature.\n",
            " |  \n",
            " |  __reduce__(...)\n",
            " |      helper for pickle\n",
            " |  \n",
            " |  __repr__(self, /)\n",
            " |      Return repr(self).\n",
            " |  \n",
            " |  __reversed__(...)\n",
            " |      Return a reverse iterator.\n",
            " |  \n",
            " |  count(...)\n",
            " |      rangeobject.count(value) -> integer -- return number of occurrences of value\n",
            " |  \n",
            " |  index(...)\n",
            " |      rangeobject.index(value, [start, [stop]]) -> integer -- return index of value.\n",
            " |      Raise ValueError if the value is not present.\n",
            " |  \n",
            " |  ----------------------------------------------------------------------\n",
            " |  Data descriptors defined here:\n",
            " |  \n",
            " |  start\n",
            " |  \n",
            " |  step\n",
            " |  \n",
            " |  stop\n",
            "\n"
          ],
          "name": "stdout"
        }
      ]
    },
    {
      "metadata": {
        "id": "HSq7JpCX0tiG",
        "colab_type": "text"
      },
      "cell_type": "markdown",
      "source": [
        "Just as we can use `int()`, `float()`, and `bool()` to convert objects to another type, we can use `list()` to convert a list-like thing into a list, which shows a more familiar (and useful) representation:"
      ]
    },
    {
      "metadata": {
        "id": "T1XD8NGV0tiH",
        "colab_type": "code",
        "outputId": "a26c0279-83ec-459f-a05c-79cb5986d134",
        "colab": {
          "base_uri": "https://localhost:8080/",
          "height": 35
        }
      },
      "cell_type": "code",
      "source": [
        "list(range(5))"
      ],
      "execution_count": 0,
      "outputs": [
        {
          "output_type": "execute_result",
          "data": {
            "text/plain": [
              "[0, 1, 2, 3, 4]"
            ]
          },
          "metadata": {
            "tags": []
          },
          "execution_count": 25
        }
      ]
    },
    {
      "metadata": {
        "id": "CG0D3b250tiK",
        "colab_type": "text"
      },
      "cell_type": "markdown",
      "source": [
        "Note that the range starts at zero, and that by convention the top of the range is not included in the output. `range(5)` gives the numbers from 0 up to *but not including* 5. \n",
        "\n",
        "This may seem like a strange way to do things, but the documentation (accessed via `help(range)`) alludes to the reasoning when it says:\n",
        "\n",
        "> `range(4)` produces 0, 1, 2, 3.  These are exactly the valid indices for a list of 4 elements.  \n",
        "\n",
        "So for any list `L`, `for i in range(len(L)):` will iterate over all its valid indices."
      ]
    },
    {
      "metadata": {
        "id": "jx38D6Z90PPr",
        "colab_type": "code",
        "colab": {}
      },
      "cell_type": "code",
      "source": [
        "nums = [1, 2, 4, 8, 16]"
      ],
      "execution_count": 0,
      "outputs": []
    },
    {
      "metadata": {
        "id": "Xutk-4GP0QwC",
        "colab_type": "code",
        "outputId": "fec3c49a-72e4-454d-9e6d-394251fe8f91",
        "colab": {
          "base_uri": "https://localhost:8080/",
          "height": 35
        }
      },
      "cell_type": "code",
      "source": [
        "len(nums)"
      ],
      "execution_count": 0,
      "outputs": [
        {
          "output_type": "execute_result",
          "data": {
            "text/plain": [
              "5"
            ]
          },
          "metadata": {
            "tags": []
          },
          "execution_count": 27
        }
      ]
    },
    {
      "metadata": {
        "id": "62l3YmX00tiL",
        "colab_type": "code",
        "outputId": "05fa2318-7c36-421a-918a-eae9e976e4d0",
        "colab": {
          "base_uri": "https://localhost:8080/",
          "height": 35
        }
      },
      "cell_type": "code",
      "source": [
        "nums = [1, 2, 4, 8, 16]\n",
        "for i in range(len(nums)):\n",
        "    nums[i] = nums[i] * 2\n",
        "nums"
      ],
      "execution_count": 0,
      "outputs": [
        {
          "output_type": "execute_result",
          "data": {
            "text/plain": [
              "[2, 4, 8, 16, 32]"
            ]
          },
          "metadata": {
            "tags": []
          },
          "execution_count": 28
        }
      ]
    },
    {
      "metadata": {
        "id": "c3PBC2e50tiO",
        "colab_type": "text"
      },
      "cell_type": "markdown",
      "source": [
        "This is the classic way of iterating over the indices of a list or other sequence.\n",
        "\n",
        "> **Aside**: `for i in range(len(L)):` is analogous to constructs like `for (int i = 0; i < L.length; i++)` in other languages."
      ]
    },
    {
      "metadata": {
        "id": "_WxGnFEK0tiQ",
        "colab_type": "text"
      },
      "cell_type": "markdown",
      "source": [
        "### `enumerate`\n",
        "\n",
        "`for foo in x` loops over the elements of a list and `for i in range(len(x))` loops over the indices of a list. What if you want to do both?\n",
        "\n",
        "Enter the `enumerate` function, one of Python's hidden gems:"
      ]
    },
    {
      "metadata": {
        "id": "0A1z3snR0tiR",
        "colab_type": "code",
        "outputId": "054b1097-a564-4d12-837e-4e83af0976db",
        "colab": {
          "base_uri": "https://localhost:8080/",
          "height": 35
        }
      },
      "cell_type": "code",
      "source": [
        "def double_odds(nums):\n",
        "    for i, num in enumerate(nums):\n",
        "        if num % 2 == 1:\n",
        "            nums[i] = num * 2\n",
        "\n",
        "x = list(range(10))\n",
        "double_odds(x)\n",
        "x"
      ],
      "execution_count": 0,
      "outputs": [
        {
          "output_type": "execute_result",
          "data": {
            "text/plain": [
              "[0, 2, 2, 6, 4, 10, 6, 14, 8, 18]"
            ]
          },
          "metadata": {
            "tags": []
          },
          "execution_count": 29
        }
      ]
    },
    {
      "metadata": {
        "id": "MZPjYKGP0tiU",
        "colab_type": "text"
      },
      "cell_type": "markdown",
      "source": [
        "Given a list, `enumerate` returns an object which iterates over the indices *and* the values of the list.\n",
        "\n",
        "(Like the `range()` function, it returns an iterable object. To see its contents as a list, we can call `list()` on it.)"
      ]
    },
    {
      "metadata": {
        "id": "nUedBHpu0tiV",
        "colab_type": "code",
        "outputId": "c871acf3-d340-4115-ea33-60a1f0602c8b",
        "colab": {
          "base_uri": "https://localhost:8080/",
          "height": 35
        }
      },
      "cell_type": "code",
      "source": [
        "list(enumerate(['a', 'b']))"
      ],
      "execution_count": 0,
      "outputs": [
        {
          "output_type": "execute_result",
          "data": {
            "text/plain": [
              "[(0, 'a'), (1, 'b')]"
            ]
          },
          "metadata": {
            "tags": []
          },
          "execution_count": 30
        }
      ]
    },
    {
      "metadata": {
        "id": "8hUWv4sL0tiZ",
        "colab_type": "text"
      },
      "cell_type": "markdown",
      "source": [
        "We can see that that the things we were iterating over are tuples. This helps explain that `for i, num` syntax. We're \"unpacking\" the tuple, just like in this example from the previous tutorial:"
      ]
    },
    {
      "metadata": {
        "id": "2Lia6PyN0tiZ",
        "colab_type": "code",
        "colab": {}
      },
      "cell_type": "code",
      "source": [
        "x = 0.125\n",
        "numerator, denominator = x.as_integer_ratio()"
      ],
      "execution_count": 0,
      "outputs": []
    },
    {
      "metadata": {
        "id": "yceP7oIs0tic",
        "colab_type": "text"
      },
      "cell_type": "markdown",
      "source": [
        "We can use this unpacking syntax any time we iterate over a collection of tuples."
      ]
    },
    {
      "metadata": {
        "id": "ckHRrE-b0tic",
        "colab_type": "code",
        "outputId": "3a0e443c-136f-464b-f663-9a48e87efc06",
        "colab": {
          "base_uri": "https://localhost:8080/",
          "height": 35
        }
      },
      "cell_type": "code",
      "source": [
        "nums = [\n",
        "    ('one', 1, 'I'),\n",
        "    ('two', 2, 'II'),\n",
        "    ('three', 3, 'III'),\n",
        "    ('four', 4, 'IV'),\n",
        "]\n",
        "\n",
        "for word, integer, roman_numeral in nums:\n",
        "    print(integer, word, roman_numeral, sep=' = ', end='; ')"
      ],
      "execution_count": 0,
      "outputs": [
        {
          "output_type": "stream",
          "text": [
            "1 = one = I; 2 = two = II; 3 = three = III; 4 = four = IV; "
          ],
          "name": "stdout"
        }
      ]
    },
    {
      "metadata": {
        "id": "OqdTuVfu0tie",
        "colab_type": "text"
      },
      "cell_type": "markdown",
      "source": [
        "This is equivalent to the following (more tedious) code:"
      ]
    },
    {
      "metadata": {
        "id": "ApPAAKJt0tie",
        "colab_type": "code",
        "colab": {}
      },
      "cell_type": "code",
      "source": [
        "for tup in nums:\n",
        "    word = tup[0]\n",
        "    integer = tup[1]\n",
        "    roman_numeral = tup[2]\n",
        "    print(integer, word, roman_numeral, sep=' = ', end='; ')"
      ],
      "execution_count": 0,
      "outputs": []
    },
    {
      "metadata": {
        "id": "rCb4bHXw0tih",
        "colab_type": "text"
      },
      "cell_type": "markdown",
      "source": [
        "## ``while`` loops\n",
        "The other type of loop in Python is a ``while`` loop, which iterates until some condition is met:"
      ]
    },
    {
      "metadata": {
        "id": "DluVtRnV0tih",
        "colab_type": "code",
        "outputId": "da0185a1-1b08-47a7-a48e-836ea6d2a6e6",
        "colab": {
          "base_uri": "https://localhost:8080/",
          "height": 35
        }
      },
      "cell_type": "code",
      "source": [
        "i = 0\n",
        "while i < 10:\n",
        "    print(i, end=' ')\n",
        "    i += 1"
      ],
      "execution_count": 0,
      "outputs": [
        {
          "output_type": "stream",
          "text": [
            "0 1 2 3 4 5 6 7 8 9 "
          ],
          "name": "stdout"
        }
      ]
    },
    {
      "metadata": {
        "id": "Pau8LroA0tik",
        "colab_type": "text"
      },
      "cell_type": "markdown",
      "source": [
        "The argument of the ``while`` loop is evaluated as a boolean statement, and the loop is executed until the statement evaluates to False."
      ]
    },
    {
      "metadata": {
        "id": "cj96geeN0tik",
        "colab_type": "text"
      },
      "cell_type": "markdown",
      "source": [
        "## List comprehensions\n",
        "\n",
        "List comprehensions are one of Python's most beloved and unique features. The easiest way to understand them is probably to just look at a few examples:"
      ]
    },
    {
      "metadata": {
        "id": "7vuv1Dpn0tim",
        "colab_type": "code",
        "outputId": "c3b8274e-1956-4e65-811e-b5752d785979",
        "colab": {
          "base_uri": "https://localhost:8080/",
          "height": 35
        }
      },
      "cell_type": "code",
      "source": [
        "squares = [n**2 for n in range(10)]\n",
        "squares"
      ],
      "execution_count": 0,
      "outputs": [
        {
          "output_type": "execute_result",
          "data": {
            "text/plain": [
              "[0, 1, 4, 9, 16, 25, 36, 49, 64, 81]"
            ]
          },
          "metadata": {
            "tags": []
          },
          "execution_count": 33
        }
      ]
    },
    {
      "metadata": {
        "id": "a7Rx4CMk0tip",
        "colab_type": "text"
      },
      "cell_type": "markdown",
      "source": [
        "Here's how we would do the same thing without a list comprehension:"
      ]
    },
    {
      "metadata": {
        "id": "Lp2AAfzf0tiq",
        "colab_type": "code",
        "outputId": "77f93672-d12c-48dd-b955-33dccfa52ec1",
        "colab": {
          "base_uri": "https://localhost:8080/",
          "height": 35
        }
      },
      "cell_type": "code",
      "source": [
        "squares = []\n",
        "for n in range(10):\n",
        "    squares.append(n**2)\n",
        "squares"
      ],
      "execution_count": 0,
      "outputs": [
        {
          "output_type": "execute_result",
          "data": {
            "text/plain": [
              "[0, 1, 4, 9, 16, 25, 36, 49, 64, 81]"
            ]
          },
          "metadata": {
            "tags": []
          },
          "execution_count": 34
        }
      ]
    },
    {
      "metadata": {
        "id": "sk579LTw0tit",
        "colab_type": "text"
      },
      "cell_type": "markdown",
      "source": [
        "We can also add an `if` condition:"
      ]
    },
    {
      "metadata": {
        "id": "tGWARBo85zxq",
        "colab_type": "code",
        "colab": {}
      },
      "cell_type": "code",
      "source": [
        "planets"
      ],
      "execution_count": 0,
      "outputs": []
    },
    {
      "metadata": {
        "id": "JTlcjOVE0tit",
        "colab_type": "code",
        "colab": {}
      },
      "cell_type": "code",
      "source": [
        "short_planets = [planet for planet in planets if len(planet) < 6]\n",
        "short_planets"
      ],
      "execution_count": 0,
      "outputs": []
    },
    {
      "metadata": {
        "id": "IeoDGdl80tiv",
        "colab_type": "text"
      },
      "cell_type": "markdown",
      "source": [
        "(If you're familiar with SQL, you might think of this as being like a \"WHERE\" clause)\n",
        "\n",
        "Here's an example of filtering with an `if` condition *and* applying some transformation to the loop variable:"
      ]
    },
    {
      "metadata": {
        "id": "1tBiJZyAgFU_",
        "colab_type": "code",
        "colab": {}
      },
      "cell_type": "code",
      "source": [
        "planets = ['Mercury', 'Venus', 'Earth', 'Mars', 'Jupiter', 'Saturn', 'Uranus', 'Neptune']"
      ],
      "execution_count": 0,
      "outputs": []
    },
    {
      "metadata": {
        "id": "MgqSBK-V0tix",
        "colab_type": "code",
        "outputId": "11d7d39b-94a6-4d80-ae7c-ffe97096b351",
        "colab": {
          "base_uri": "https://localhost:8080/",
          "height": 34
        }
      },
      "cell_type": "code",
      "source": [
        "# str.upper() returns an all-caps version of a string\n",
        "loud_short_planets = [planet.upper() + '!' for planet in planets if len(planet) < 6]\n",
        "loud_short_planets"
      ],
      "execution_count": 0,
      "outputs": [
        {
          "output_type": "execute_result",
          "data": {
            "text/plain": [
              "['VENUS!', 'EARTH!', 'MARS!']"
            ]
          },
          "metadata": {
            "tags": []
          },
          "execution_count": 2
        }
      ]
    },
    {
      "metadata": {
        "id": "pDl8mJEr0tiz",
        "colab_type": "text"
      },
      "cell_type": "markdown",
      "source": [
        "People usually write these on a single line, but you might find the structure clearer when it's split up over 3 lines:"
      ]
    },
    {
      "metadata": {
        "id": "S3vS5GzO0tiz",
        "colab_type": "code",
        "outputId": "90cc31c9-69c8-4d68-85a8-d207041cf2e2",
        "colab": {
          "base_uri": "https://localhost:8080/",
          "height": 35
        }
      },
      "cell_type": "code",
      "source": [
        "[\n",
        "    planet.upper() + '!' \n",
        "    for planet in planets \n",
        "    if len(planet) < 6\n",
        "]"
      ],
      "execution_count": 0,
      "outputs": [
        {
          "output_type": "execute_result",
          "data": {
            "text/plain": [
              "['VENUS!', 'EARTH!', 'MARS!']"
            ]
          },
          "metadata": {
            "tags": []
          },
          "execution_count": 37
        }
      ]
    },
    {
      "metadata": {
        "id": "zgtLC_5Z0ti0",
        "colab_type": "text"
      },
      "cell_type": "markdown",
      "source": [
        "(Continuing the SQL analogy, you could think of these three lines as SELECT, FROM, and WHERE)\n",
        "\n",
        "The expression on the left doesn't technically have to involve the loop variable (though it'd be pretty unusual for it not to). What do you think the expression below will evaluate to? Press the 'output' button to check. "
      ]
    },
    {
      "metadata": {
        "id": "ZYfsV79v0ti2",
        "colab_type": "code",
        "outputId": "bcfed392-08fe-428e-aa48-d4d57bb20eb7",
        "colab": {
          "base_uri": "https://localhost:8080/",
          "height": 35
        }
      },
      "cell_type": "code",
      "source": [
        "[32 for planet in planets]"
      ],
      "execution_count": 0,
      "outputs": [
        {
          "output_type": "execute_result",
          "data": {
            "text/plain": [
              "[32, 32, 32, 32, 32, 32, 32, 32]"
            ]
          },
          "metadata": {
            "tags": []
          },
          "execution_count": 38
        }
      ]
    },
    {
      "metadata": {
        "id": "0KNkjcum0ti4",
        "colab_type": "text"
      },
      "cell_type": "markdown",
      "source": [
        "List comprehensions combined with some of the functions we've seen like `min`, `max`, `sum`, `len`, and `sorted`, can lead to some pretty impressive one-line solutions for problems that would otherwise require several lines of code. \n",
        "\n",
        "For example, [the last exercise](https://www.kaggle.com/kernels/fork/1275173) included a brainteaser asking you to write a function to count the number of negative numbers in a list *without using loops* (or any other syntax we hadn't seen). Here's how we might solve the problem now that we have loops in our arsenal:\n"
      ]
    },
    {
      "metadata": {
        "id": "Wgcrqj3x0ti5",
        "colab_type": "code",
        "colab": {}
      },
      "cell_type": "code",
      "source": [
        "def count_negatives(nums):\n",
        "    \"\"\"Return the number of negative numbers in the given list.\n",
        "    \n",
        "    >>> count_negatives([5, -1, -2, 0, 3])\n",
        "    2\n",
        "    \"\"\"\n",
        "    n_negative = 0\n",
        "    for num in nums:\n",
        "        if num < 0:\n",
        "            n_negative = n_negative + 1\n",
        "    return n_negative"
      ],
      "execution_count": 0,
      "outputs": []
    },
    {
      "metadata": {
        "id": "0-3AIa2v0ti8",
        "colab_type": "text"
      },
      "cell_type": "markdown",
      "source": [
        "Here's a solution using a list comprehension:"
      ]
    },
    {
      "metadata": {
        "id": "P8LoansJ0ti9",
        "colab_type": "code",
        "colab": {}
      },
      "cell_type": "code",
      "source": [
        "def count_negatives(nums):\n",
        "    return len([num for num in nums if num < 0])"
      ],
      "execution_count": 0,
      "outputs": []
    },
    {
      "metadata": {
        "id": "QnJOmbyY0tjA",
        "colab_type": "text"
      },
      "cell_type": "markdown",
      "source": [
        "Much better, right?\n",
        "\n",
        "Well if all we care about is minimizing the length of our code, this third solution is better still!"
      ]
    },
    {
      "metadata": {
        "id": "3LXwXEut0tjB",
        "colab_type": "code",
        "colab": {}
      },
      "cell_type": "code",
      "source": [
        "def count_negatives(nums):\n",
        "    # Reminder: in the \"booleans and conditionals\" exercises, we learned about a quirk of \n",
        "    # Python where it calculates something like True + True + False + True to be equal to 3.\n",
        "    return sum([num < 0 for num in nums])"
      ],
      "execution_count": 0,
      "outputs": []
    },
    {
      "metadata": {
        "id": "WhtRLshL0tjC",
        "colab_type": "text"
      },
      "cell_type": "markdown",
      "source": [
        "Which of these solutions is the \"best\" is entirely subjective. Solving a problem with less code is always nice, but it's worth keeping in mind the following lines from [The Zen of Python](https://en.wikipedia.org/wiki/Zen_of_Python):\n",
        "\n",
        "> Readability counts.  \n",
        "> Explicit is better than implicit.\n",
        "\n",
        "The last definition of `count_negatives` might be the shortest, but will other people reading your code understand how it works? \n",
        "\n",
        "Writing Pythonic code doesn't mean never using for loops!"
      ]
    }
  ]
}