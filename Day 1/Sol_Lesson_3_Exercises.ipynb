{
  "nbformat": 4,
  "nbformat_minor": 0,
  "metadata": {
    "colab": {
      "name": "Sol Lesson 3 Exercises.ipynb",
      "version": "0.3.2",
      "provenance": [],
      "collapsed_sections": [],
      "include_colab_link": true
    },
    "kernelspec": {
      "display_name": "Python 3",
      "language": "python",
      "name": "python3"
    }
  },
  "cells": [
    {
      "cell_type": "markdown",
      "metadata": {
        "id": "view-in-github",
        "colab_type": "text"
      },
      "source": [
        "<a href=\"https://colab.research.google.com/github/ShabatA/AI-course/blob/master/Day%201/Sol_Lesson_3_Exercises.ipynb\" target=\"_parent\"><img src=\"https://colab.research.google.com/assets/colab-badge.svg\" alt=\"Open In Colab\"/></a>"
      ]
    },
    {
      "cell_type": "markdown",
      "metadata": {
        "id": "o1jtO3U4B01v",
        "colab_type": "text"
      },
      "source": [
        "# Exercises"
      ]
    },
    {
      "cell_type": "markdown",
      "metadata": {
        "id": "i5XaVvHXB01w",
        "colab_type": "text"
      },
      "source": [
        "## 1.\n",
        "\n",
        "Many programming languages have [sign](https://en.wikipedia.org/wiki/Sign_function) available as a built-in function. Python doesn't, but we can define our own!\n",
        "\n",
        "In the cell below, define a function called `sign` which takes a numerical argument and returns -1 if it's negative, 1 if it's positive, and 0 if it's 0."
      ]
    },
    {
      "cell_type": "code",
      "metadata": {
        "id": "9MnyfOoAB01x",
        "colab_type": "code",
        "colab": {}
      },
      "source": [
        "# Your code goes here. Define a function called 'sign'\n",
        "def sign(x):\n",
        "  if x>0:\n",
        "    return 1\n",
        "  elif x ==0:\n",
        "    return 0\n",
        "  else:\n",
        "    return -1\n",
        "\n"
      ],
      "execution_count": 0,
      "outputs": []
    },
    {
      "cell_type": "code",
      "metadata": {
        "id": "_02NwFQ-rsQ5",
        "colab_type": "code",
        "colab": {}
      },
      "source": [
        "sign(-5)"
      ],
      "execution_count": 0,
      "outputs": []
    },
    {
      "cell_type": "markdown",
      "metadata": {
        "id": "JWo8MQFnB015",
        "colab_type": "text"
      },
      "source": [
        "## 2.\n",
        "\n",
        "We've decided to add some simple logging to our `to_smash` function from the previous exercise"
      ]
    },
    {
      "cell_type": "code",
      "metadata": {
        "id": "pcAV_tB6B017",
        "colab_type": "code",
        "colab": {}
      },
      "source": [
        "def to_smash(total_candies):\n",
        "    \"\"\"Return the number of leftover candies that must be smashed after distributing\n",
        "    the given number of candies evenly between 3 friends.\n",
        "    \n",
        "    >>> to_smash(91)\n",
        "    1\n",
        "    \"\"\"\n",
        "    print(\"Splitting\", total_candies, \"candies\")\n",
        "    return total_candies % 3\n",
        "\n",
        "to_smash(91)"
      ],
      "execution_count": 0,
      "outputs": []
    },
    {
      "cell_type": "markdown",
      "metadata": {
        "id": "BigUDduKB01_",
        "colab_type": "text"
      },
      "source": [
        "But wait, what happens if we call it with `total_candies = 1`?"
      ]
    },
    {
      "cell_type": "code",
      "metadata": {
        "id": "XbVgNFp5B02A",
        "colab_type": "code",
        "colab": {}
      },
      "source": [
        "to_smash(1)"
      ],
      "execution_count": 0,
      "outputs": []
    },
    {
      "cell_type": "markdown",
      "metadata": {
        "id": "DzYwQ3FHB02F",
        "colab_type": "text"
      },
      "source": [
        "How embarrassing!\n",
        "\n",
        "Modify the definition in the cell below to correct the grammar of our print statement. (If there's only one candy, we should use the singular \"candy\" instead of the plural \"candies\")\n",
        "\n",
        "**Bonus**: <span title=\"A bit spicy\" style=\"color: darkgreen \">🌶️</span> Can you fix the function without increasing the number of lines of code?"
      ]
    },
    {
      "cell_type": "code",
      "metadata": {
        "id": "AcEdrLbgB02G",
        "colab_type": "code",
        "colab": {}
      },
      "source": [
        "def to_smash(total_candies):\n",
        "    \"\"\"Return the number of leftover candies that must be smashed after distributing\n",
        "    the given number of candies evenly between 3 friends.\n",
        "    \n",
        "    >>> to_smash(91)\n",
        "    1\n",
        "    \"\"\"\n",
        "    if(total_candies==1):\n",
        "      print(\"Splitting\", total_candies, \"candy\")\n",
        "    else:\n",
        "      print(\"Splitting\", total_candies, \"candies\")\n",
        "    \n",
        "    return total_candies % 3\n",
        "\n",
        "to_smash(91)\n",
        "to_smash(1)"
      ],
      "execution_count": 0,
      "outputs": []
    },
    {
      "cell_type": "markdown",
      "metadata": {
        "id": "nbWrjttfB02R",
        "colab_type": "text"
      },
      "source": [
        "## 3. <span title=\"A bit spicy\" style=\"color: darkgreen \">🌶️</span>\n",
        "\n",
        "In the main lesson we talked about deciding whether we're prepared for the weather. I said that I'm safe from today's weather if...\n",
        "- I have an umbrella...\n",
        "- or if the rain isn't too heavy and I have a hood...\n",
        "- otherwise, I'm still fine unless it's raining *and* it's a workday\n",
        "\n",
        "The function below uses our first attempt at turning this logic into a Python expression. I claimed that there was a bug in that code. Can you find it?\n",
        "\n",
        "To prove that `prepared_for_weather` is buggy, come up with a set of inputs where it returns the wrong answer."
      ]
    },
    {
      "cell_type": "code",
      "metadata": {
        "id": "CppLp0UpB02R",
        "colab_type": "code",
        "outputId": "feb4c8cf-1193-44da-d390-6754b26c8f13",
        "colab": {
          "base_uri": "https://localhost:8080/",
          "height": 35
        }
      },
      "source": [
        "def prepared_for_weather(have_umbrella, rain_level, have_hood, is_workday):\n",
        "    # Don't change this code. Our goal is just to find the bug, not fix it!\n",
        "    return have_umbrella or rain_level < 5 and have_hood or not rain_level > 0 and is_workday\n",
        "\n",
        "# Change the values of these inputs so they represent a case where prepared_for_weather\n",
        "# returns the wrong answer.\n",
        "have_umbrella = True\n",
        "rain_level = 0.0\n",
        "have_hood = True\n",
        "is_workday = True\n",
        "\n",
        "# Check what the function returns given the current values of the variables above\n",
        "actual = prepared_for_weather(have_umbrella, rain_level, have_hood, is_workday)\n",
        "print(actual)\n"
      ],
      "execution_count": 0,
      "outputs": [
        {
          "output_type": "stream",
          "text": [
            "True\n"
          ],
          "name": "stdout"
        }
      ]
    },
    {
      "cell_type": "markdown",
      "metadata": {
        "id": "7KNoPg-2B02f",
        "colab_type": "text"
      },
      "source": [
        "## 4.\n",
        "\n",
        "The function `is_negative` below is implemented correctly - it returns True if the given number is negative and False otherwise.\n",
        "\n",
        "However, it's more verbose than it needs to be. We can actually reduce the number of lines of code in this function by *75%* while keeping the same behaviour. \n",
        "\n",
        "See if you can come up with an equivalent body that uses just **one line** of code, and put it in the function `concise_is_negative`. (HINT: you don't even need Python's ternary syntax)"
      ]
    },
    {
      "cell_type": "code",
      "metadata": {
        "id": "ZqtS0P5BB02f",
        "colab_type": "code",
        "colab": {}
      },
      "source": [
        "def is_negative(number):\n",
        "    if number < 0:\n",
        "        return True\n",
        "    else:\n",
        "        return False\n",
        "\n",
        "def concise_is_negative(number):\n",
        "    return nu       \n"
      ],
      "execution_count": 0,
      "outputs": []
    },
    {
      "cell_type": "code",
      "metadata": {
        "id": "vTXtkUtWuQJ9",
        "colab_type": "code",
        "outputId": "fb271dfd-1623-4fe2-c1ec-df7b9ef28c1d",
        "colab": {
          "base_uri": "https://localhost:8080/",
          "height": 35
        }
      },
      "source": [
        "concise_is_negative(-5)"
      ],
      "execution_count": 0,
      "outputs": [
        {
          "output_type": "execute_result",
          "data": {
            "text/plain": [
              "True"
            ]
          },
          "metadata": {
            "tags": []
          },
          "execution_count": 5
        }
      ]
    },
    {
      "cell_type": "markdown",
      "metadata": {
        "id": "qlhhptUpB02n",
        "colab_type": "text"
      },
      "source": [
        "## 5.\n",
        "\n",
        "The boolean variables `ketchup`, `mustard` and `onion` represent whether a customer wants a particular topping on their hot dog. We want to implement a number of boolean functions that correspond to some yes-or-no questions about the customer's order. For example:"
      ]
    },
    {
      "cell_type": "code",
      "metadata": {
        "id": "kVTqNu0CB02o",
        "colab_type": "code",
        "colab": {}
      },
      "source": [
        "def onionless(ketchup, mustard, onion):\n",
        "    \"\"\"Return whether the customer doesn't want onions.\n",
        "    \"\"\"\n",
        "    return not onion"
      ],
      "execution_count": 0,
      "outputs": []
    },
    {
      "cell_type": "markdown",
      "metadata": {
        "id": "64aoSg35B02r",
        "colab_type": "text"
      },
      "source": [
        "For each of the remaining functions, fill in the body to match the English description in the docstring. "
      ]
    },
    {
      "cell_type": "code",
      "metadata": {
        "id": "vwCE_NS7B02r",
        "colab_type": "code",
        "colab": {}
      },
      "source": [
        "def wants_all_toppings(ketchup, mustard, onion):\n",
        "    \"\"\"Return whether the customer wants \"the works\" (all 3 toppings)\n",
        "    \"\"\"\n",
        "    return ketchup, mustard, onion"
      ],
      "execution_count": 0,
      "outputs": []
    },
    {
      "cell_type": "code",
      "metadata": {
        "id": "xT3cmVcLB02y",
        "colab_type": "code",
        "colab": {}
      },
      "source": [
        "def wants_plain_hotdog(ketchup, mustard, onion):\n",
        "    \"\"\"Return whether the customer wants a plain hot dog with no toppings.\n",
        "    \"\"\"\n",
        "    pass\n"
      ],
      "execution_count": 0,
      "outputs": []
    },
    {
      "cell_type": "code",
      "metadata": {
        "id": "GG15UN7UB026",
        "colab_type": "code",
        "colab": {}
      },
      "source": [
        "def exactly_one_sauce(ketchup, mustard, onion):\n",
        "    \"\"\"Return whether the customer wants either ketchup or mustard, but not both.\n",
        "    (You may be familiar with this operation under the name \"exclusive or\")\n",
        "    \"\"\"\n",
        "    pass\n"
      ],
      "execution_count": 0,
      "outputs": []
    }
  ]
}