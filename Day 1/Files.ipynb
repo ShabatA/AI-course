{
  "nbformat": 4,
  "nbformat_minor": 0,
  "metadata": {
    "colab": {
      "name": "Files.ipynb",
      "version": "0.3.2",
      "provenance": [],
      "include_colab_link": true
    },
    "kernelspec": {
      "name": "python3",
      "display_name": "Python 3"
    }
  },
  "cells": [
    {
      "cell_type": "markdown",
      "metadata": {
        "id": "view-in-github",
        "colab_type": "text"
      },
      "source": [
        "<a href=\"https://colab.research.google.com/github/ShabatA/AI-course/blob/master/Day%201/Files.ipynb\" target=\"_parent\"><img src=\"https://colab.research.google.com/assets/colab-badge.svg\" alt=\"Open In Colab\"/></a>"
      ]
    },
    {
      "cell_type": "code",
      "metadata": {
        "id": "yinpIfLvDRzD",
        "colab_type": "code",
        "colab": {}
      },
      "source": [
        "#File handler\n",
        "file1 = open('mbox-short.txt','r')"
      ],
      "execution_count": 0,
      "outputs": []
    },
    {
      "cell_type": "code",
      "metadata": {
        "id": "o8vW_KgED7pK",
        "colab_type": "code",
        "colab": {}
      },
      "source": [
        "count =0"
      ],
      "execution_count": 0,
      "outputs": []
    },
    {
      "cell_type": "code",
      "metadata": {
        "id": "a_jCOA6xE1lh",
        "colab_type": "code",
        "colab": {}
      },
      "source": [
        "#read lines in file1\n",
        "for line in file1:\n",
        "  print(line)"
      ],
      "execution_count": 0,
      "outputs": []
    },
    {
      "cell_type": "code",
      "metadata": {
        "id": "3Ocg2g0DDqcA",
        "colab_type": "code",
        "colab": {}
      },
      "source": [
        "#Counting how many lines in file1\n",
        "file1 = open('mbox-short.txt','r')\n",
        "for line in file1:\n",
        "  count = count +1\n",
        "  "
      ],
      "execution_count": 0,
      "outputs": []
    },
    {
      "cell_type": "code",
      "metadata": {
        "id": "yBfmsA7JD_13",
        "colab_type": "code",
        "colab": {
          "base_uri": "https://localhost:8080/",
          "height": 34
        },
        "outputId": "88308616-2e71-4cb6-d1ff-fd2e4a44720d"
      },
      "source": [
        "print(count)"
      ],
      "execution_count": 6,
      "outputs": [
        {
          "output_type": "stream",
          "text": [
            "1910\n"
          ],
          "name": "stdout"
        }
      ]
    },
    {
      "cell_type": "code",
      "metadata": {
        "id": "Ljn-G7ZxE0iR",
        "colab_type": "code",
        "colab": {}
      },
      "source": [
        "#print only the lines that start with the word \"From:\"\n",
        "file1 = open('mbox-short.txt','r')\n",
        "for line in file1:\n",
        "  if line.startswith('From:'):\n",
        "    print(line)"
      ],
      "execution_count": 0,
      "outputs": []
    },
    {
      "cell_type": "code",
      "metadata": {
        "id": "tpD8SlcsEBRv",
        "colab_type": "code",
        "colab": {
          "base_uri": "https://localhost:8080/",
          "height": 492
        },
        "outputId": "468a21b3-7c76-48a5-a617-21d7ec8e7ff2"
      },
      "source": [
        "#print only the lines that start with the word \"From:\"\n",
        "# remove the space\n",
        "\n",
        "file1 = open('mbox-short.txt','r')\n",
        "for line in file1:\n",
        "  line = line.rstrip()\n",
        "  if line.startswith('From:'):\n",
        "    print(line)"
      ],
      "execution_count": 14,
      "outputs": [
        {
          "output_type": "stream",
          "text": [
            "From: stephen.marquard@uct.ac.za\n",
            "From: louis@media.berkeley.edu\n",
            "From: zqian@umich.edu\n",
            "From: rjlowe@iupui.edu\n",
            "From: zqian@umich.edu\n",
            "From: rjlowe@iupui.edu\n",
            "From: cwen@iupui.edu\n",
            "From: cwen@iupui.edu\n",
            "From: gsilver@umich.edu\n",
            "From: gsilver@umich.edu\n",
            "From: zqian@umich.edu\n",
            "From: gsilver@umich.edu\n",
            "From: wagnermr@iupui.edu\n",
            "From: zqian@umich.edu\n",
            "From: antranig@caret.cam.ac.uk\n",
            "From: gopal.ramasammycook@gmail.com\n",
            "From: david.horwitz@uct.ac.za\n",
            "From: david.horwitz@uct.ac.za\n",
            "From: david.horwitz@uct.ac.za\n",
            "From: david.horwitz@uct.ac.za\n",
            "From: stephen.marquard@uct.ac.za\n",
            "From: louis@media.berkeley.edu\n",
            "From: louis@media.berkeley.edu\n",
            "From: ray@media.berkeley.edu\n",
            "From: cwen@iupui.edu\n",
            "From: cwen@iupui.edu\n",
            "From: cwen@iupui.edu\n"
          ],
          "name": "stdout"
        }
      ]
    },
    {
      "cell_type": "code",
      "metadata": {
        "id": "MwTiOAT3EV-X",
        "colab_type": "code",
        "colab": {
          "base_uri": "https://localhost:8080/",
          "height": 492
        },
        "outputId": "93fa4abe-668e-4b9a-b6be-46d75402f598"
      },
      "source": [
        "#print only the lines that start with the word \"From:\"\n",
        "# using different way\n",
        "file1 = open('mbox-short.txt','r')\n",
        "for line in file1:\n",
        "  line = line.rstrip()\n",
        "  if not line.startswith('From:'):\n",
        "    continue\n",
        "  print(line)"
      ],
      "execution_count": 16,
      "outputs": [
        {
          "output_type": "stream",
          "text": [
            "From: stephen.marquard@uct.ac.za\n",
            "From: louis@media.berkeley.edu\n",
            "From: zqian@umich.edu\n",
            "From: rjlowe@iupui.edu\n",
            "From: zqian@umich.edu\n",
            "From: rjlowe@iupui.edu\n",
            "From: cwen@iupui.edu\n",
            "From: cwen@iupui.edu\n",
            "From: gsilver@umich.edu\n",
            "From: gsilver@umich.edu\n",
            "From: zqian@umich.edu\n",
            "From: gsilver@umich.edu\n",
            "From: wagnermr@iupui.edu\n",
            "From: zqian@umich.edu\n",
            "From: antranig@caret.cam.ac.uk\n",
            "From: gopal.ramasammycook@gmail.com\n",
            "From: david.horwitz@uct.ac.za\n",
            "From: david.horwitz@uct.ac.za\n",
            "From: david.horwitz@uct.ac.za\n",
            "From: david.horwitz@uct.ac.za\n",
            "From: stephen.marquard@uct.ac.za\n",
            "From: louis@media.berkeley.edu\n",
            "From: louis@media.berkeley.edu\n",
            "From: ray@media.berkeley.edu\n",
            "From: cwen@iupui.edu\n",
            "From: cwen@iupui.edu\n",
            "From: cwen@iupui.edu\n"
          ],
          "name": "stdout"
        }
      ]
    },
    {
      "cell_type": "code",
      "metadata": {
        "id": "RM5DY467EfcO",
        "colab_type": "code",
        "colab": {
          "base_uri": "https://localhost:8080/",
          "height": 477
        },
        "outputId": "bae5109f-f98c-45e3-d771-32ae550a3f19"
      },
      "source": [
        "#print only the lines that contain '@uct.ac.za'\n",
        "file1 = open('mbox-short.txt','r')\n",
        "for line in file1:\n",
        "  line = line.rstrip()\n",
        "  if not \"@uct.ac.za\" in line:\n",
        "    continue\n",
        "  print(line)"
      ],
      "execution_count": 17,
      "outputs": [
        {
          "output_type": "stream",
          "text": [
            "From stephen.marquard@uct.ac.za Sat Jan  5 09:14:16 2008\n",
            "X-Authentication-Warning: nakamura.uits.iupui.edu: apache set sender to stephen.marquard@uct.ac.za using -f\n",
            "From: stephen.marquard@uct.ac.za\n",
            "Author: stephen.marquard@uct.ac.za\n",
            "From david.horwitz@uct.ac.za Fri Jan  4 07:02:32 2008\n",
            "X-Authentication-Warning: nakamura.uits.iupui.edu: apache set sender to david.horwitz@uct.ac.za using -f\n",
            "From: david.horwitz@uct.ac.za\n",
            "Author: david.horwitz@uct.ac.za\n",
            "r39753 | david.horwitz@uct.ac.za | 2008-01-04 13:05:51 +0200 (Fri, 04 Jan 2008) | 1 line\n",
            "From david.horwitz@uct.ac.za Fri Jan  4 06:08:27 2008\n",
            "X-Authentication-Warning: nakamura.uits.iupui.edu: apache set sender to david.horwitz@uct.ac.za using -f\n",
            "From: david.horwitz@uct.ac.za\n",
            "Author: david.horwitz@uct.ac.za\n",
            "From david.horwitz@uct.ac.za Fri Jan  4 04:49:08 2008\n",
            "X-Authentication-Warning: nakamura.uits.iupui.edu: apache set sender to david.horwitz@uct.ac.za using -f\n",
            "From: david.horwitz@uct.ac.za\n",
            "Author: david.horwitz@uct.ac.za\n",
            "From david.horwitz@uct.ac.za Fri Jan  4 04:33:44 2008\n",
            "X-Authentication-Warning: nakamura.uits.iupui.edu: apache set sender to david.horwitz@uct.ac.za using -f\n",
            "From: david.horwitz@uct.ac.za\n",
            "Author: david.horwitz@uct.ac.za\n",
            "From stephen.marquard@uct.ac.za Fri Jan  4 04:07:34 2008\n",
            "X-Authentication-Warning: nakamura.uits.iupui.edu: apache set sender to stephen.marquard@uct.ac.za using -f\n",
            "From: stephen.marquard@uct.ac.za\n",
            "Author: stephen.marquard@uct.ac.za\n"
          ],
          "name": "stdout"
        }
      ]
    },
    {
      "cell_type": "code",
      "metadata": {
        "id": "XDPkdsg1FumV",
        "colab_type": "code",
        "colab": {
          "base_uri": "https://localhost:8080/",
          "height": 457
        },
        "outputId": "4b4663ae-e3ac-46d5-9fb0-fcfd059b8fc1"
      },
      "source": [
        "#get the host name \n",
        "# get all the line that contains 'uct.ac.za'\n",
        "# then find the index for '@'\n",
        "# find the index for space which come after the host\n",
        "\n",
        "file1 = open('mbox-short.txt','r')\n",
        "for line in file1:\n",
        "  line = line.rstrip()\n",
        "  if not \"@uct.ac.za\" in line:\n",
        "    continue\n",
        "  atpointer = line.find('@')\n",
        "  spointer = line.find(' ', atpointer)\n",
        "  print(line[atpointer+1:spointer])"
      ],
      "execution_count": 18,
      "outputs": [
        {
          "output_type": "stream",
          "text": [
            "uct.ac.za\n",
            "uct.ac.za\n",
            "uct.ac.z\n",
            "uct.ac.z\n",
            "uct.ac.za\n",
            "uct.ac.za\n",
            "uct.ac.z\n",
            "uct.ac.z\n",
            "uct.ac.za\n",
            "uct.ac.za\n",
            "uct.ac.za\n",
            "uct.ac.z\n",
            "uct.ac.z\n",
            "uct.ac.za\n",
            "uct.ac.za\n",
            "uct.ac.z\n",
            "uct.ac.z\n",
            "uct.ac.za\n",
            "uct.ac.za\n",
            "uct.ac.z\n",
            "uct.ac.z\n",
            "uct.ac.za\n",
            "uct.ac.za\n",
            "uct.ac.z\n",
            "uct.ac.z\n"
          ],
          "name": "stdout"
        }
      ]
    },
    {
      "cell_type": "code",
      "metadata": {
        "id": "HEvrA5brGad2",
        "colab_type": "code",
        "colab": {
          "base_uri": "https://localhost:8080/",
          "height": 457
        },
        "outputId": "35cf8d73-0cb0-4b56-caa4-5c556b22f3cd"
      },
      "source": [
        "#fix the a problem\n",
        "file1 = open('mbox-short.txt','r')\n",
        "for line in file1:\n",
        "  line = line.rstrip()\n",
        "  if not \"@uct.ac.za\" in line:\n",
        "    continue\n",
        "  atpointer = line.find('@')\n",
        "  if not ' ' in line[atpointer+1:]:\n",
        "    print(line[atpointer+1:])\n",
        "  else:\n",
        "    spointer = line.find(' ', atpointer)\n",
        "    print(line[atpointer+1:spointer])"
      ],
      "execution_count": 20,
      "outputs": [
        {
          "output_type": "stream",
          "text": [
            "uct.ac.za\n",
            "uct.ac.za\n",
            "uct.ac.za\n",
            "uct.ac.za\n",
            "uct.ac.za\n",
            "uct.ac.za\n",
            "uct.ac.za\n",
            "uct.ac.za\n",
            "uct.ac.za\n",
            "uct.ac.za\n",
            "uct.ac.za\n",
            "uct.ac.za\n",
            "uct.ac.za\n",
            "uct.ac.za\n",
            "uct.ac.za\n",
            "uct.ac.za\n",
            "uct.ac.za\n",
            "uct.ac.za\n",
            "uct.ac.za\n",
            "uct.ac.za\n",
            "uct.ac.za\n",
            "uct.ac.za\n",
            "uct.ac.za\n",
            "uct.ac.za\n",
            "uct.ac.za\n"
          ],
          "name": "stdout"
        }
      ]
    },
    {
      "cell_type": "code",
      "metadata": {
        "id": "N71nbkMTGOf7",
        "colab_type": "code",
        "colab": {}
      },
      "source": [
        ""
      ],
      "execution_count": 0,
      "outputs": []
    }
  ]
}