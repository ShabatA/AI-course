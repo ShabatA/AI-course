{
  "nbformat": 4,
  "nbformat_minor": 0,
  "metadata": {
    "colab": {
      "name": "Solution_of_lesson_2_Exercises.ipynb",
      "version": "0.3.2",
      "provenance": [],
      "include_colab_link": true
    },
    "kernelspec": {
      "display_name": "Python 3",
      "language": "python",
      "name": "python3"
    }
  },
  "cells": [
    {
      "cell_type": "markdown",
      "metadata": {
        "id": "view-in-github",
        "colab_type": "text"
      },
      "source": [
        "<a href=\"https://colab.research.google.com/github/ShabatA/AI-course/blob/master/Day%201/Solution_of_lesson_2_Exercises.ipynb\" target=\"_parent\"><img src=\"https://colab.research.google.com/assets/colab-badge.svg\" alt=\"Open In Colab\"/></a>"
      ]
    },
    {
      "cell_type": "markdown",
      "metadata": {
        "id": "fC6qG8BX5uus",
        "colab_type": "text"
      },
      "source": [
        "# Exercises"
      ]
    },
    {
      "cell_type": "markdown",
      "metadata": {
        "id": "41CI9ddF5uut",
        "colab_type": "text"
      },
      "source": [
        "## 1.\n",
        "\n",
        "Complete the body of the following function according to its docstring.\n",
        "\n",
        "HINT: Python has a builtin function `round`"
      ]
    },
    {
      "cell_type": "code",
      "metadata": {
        "id": "wx6I87KR5uuu",
        "colab_type": "code",
        "colab": {}
      },
      "source": [
        "def round_to_two_places(num):\n",
        "    \"\"\"Return the given number rounded to two decimal places. \n",
        "    \n",
        "    >>> round_to_two_places(3.14159)\n",
        "    3.14\n",
        "    \"\"\"\n",
        "    return round(num,2)\n",
        "    # Replace this body with your own code.\n",
        "    # (\"pass\" is a keyword that does literally nothing. We used it as a placeholder\n",
        "    # because after we begin a code block, Python requires at least one line of code)\n"
      ],
      "execution_count": 0,
      "outputs": []
    },
    {
      "cell_type": "code",
      "metadata": {
        "id": "2SWx9AnxlARr",
        "colab_type": "code",
        "outputId": "a19e9b7e-dd68-4b37-feb4-61b8dc587503",
        "colab": {
          "base_uri": "https://localhost:8080/",
          "height": 35
        }
      },
      "source": [
        "round_to_two_places(3.14552)\n"
      ],
      "execution_count": 0,
      "outputs": [
        {
          "output_type": "execute_result",
          "data": {
            "text/plain": [
              "3.15"
            ]
          },
          "metadata": {
            "tags": []
          },
          "execution_count": 2
        }
      ]
    },
    {
      "cell_type": "markdown",
      "metadata": {
        "id": "iIzMxLsc5uu4",
        "colab_type": "text"
      },
      "source": [
        "## 2.\n",
        "The help for `round` says that `ndigits` (the second argument) may be negative.\n",
        "What do you think will happen when it is? Try out some examples in the console (at the bottom of the editor) or in a new code cell.\n",
        "\n",
        "Can you think of a case where this would be useful?"
      ]
    },
    {
      "cell_type": "code",
      "metadata": {
        "id": "KBJN7V9N7HTq",
        "colab_type": "code",
        "colab": {}
      },
      "source": [
        "help(round)"
      ],
      "execution_count": 0,
      "outputs": []
    },
    {
      "cell_type": "markdown",
      "metadata": {
        "id": "sHQEfhqB5uu9",
        "colab_type": "text"
      },
      "source": [
        "## 3.\n",
        "\n",
        "In the last exercise, I introduced candy-sharing friends Alice, Bob and Carol. As a reminder, they have some candies which they plan to split evenly among themselves. For the sake of their friendship, any candies left over would be smashed. For example, if they collectively bring home 91 candies, they'll take 30 each and smash 1.\n",
        "\n",
        "Earlier, you wrote some code to calculate how many candies they'd have to smash, assuming they collected a particular number.\n",
        "\n",
        "Below is a simple function that will calculate the number of candies to smash for *any* number of total candies.\n",
        "\n",
        "Modify it so that it optionally takes a second argument representing the number of friends the candies are being split between. If no second argument is provided, it should assume 3 friends, as before.\n",
        "\n",
        "If you're feeling extra fastidious, update the docstring to reflect this new behaviour (but we won't be checking for this)."
      ]
    },
    {
      "cell_type": "code",
      "metadata": {
        "id": "Dk4Rr0125uu_",
        "colab_type": "code",
        "colab": {}
      },
      "source": [
        "def to_smash(total_candies):\n",
        "    \"\"\"Return the number of leftover candies that must be smashed after distributing\n",
        "    the given number of candies evenly between 3 friends.\n",
        "    \n",
        "    >>> to_smash(91)\n",
        "    1\n",
        "    \"\"\"\n",
        "    return total_candies % 3\n"
      ],
      "execution_count": 0,
      "outputs": []
    },
    {
      "cell_type": "markdown",
      "metadata": {
        "id": "rTBKw6tH5uvL",
        "colab_type": "text"
      },
      "source": [
        "## 4.\n",
        "\n",
        "It may not be fun, but reading and understanding error messages will be an important part of your Python career.\n",
        "\n",
        "Each code cell below contains some commented-out buggy code. For each cell...\n",
        "\n",
        "1. Read the code and predict what you think will happen when it's run.\n",
        "2. Then uncomment the code and run it to see what happens. (**Tip**: In the kernel editor, you can highlight several lines and press `ctrl`+`/` to toggle commenting.)\n",
        "3. Fix the code (so that it accomplishes its intended purpose without throwing an exception)\n",
        "\n",
        "<!-- TODO: should this be autochecked? Delta is probably pretty small. -->"
      ]
    },
    {
      "cell_type": "code",
      "metadata": {
        "id": "Wh2qpuXG5uvM",
        "colab_type": "code",
        "outputId": "def381ff-13c0-4936-a74a-6371f9bae188",
        "colab": {
          "base_uri": "https://localhost:8080/",
          "height": 169
        }
      },
      "source": [
        "round_to_two_places(9.9999)"
      ],
      "execution_count": 0,
      "outputs": [
        {
          "output_type": "error",
          "ename": "NameError",
          "evalue": "ignored",
          "traceback": [
            "\u001b[0;31m---------------------------------------------------------------------------\u001b[0m",
            "\u001b[0;31mNameError\u001b[0m                                 Traceback (most recent call last)",
            "\u001b[0;32m<ipython-input-5-9ebeb19269d3>\u001b[0m in \u001b[0;36m<module>\u001b[0;34m()\u001b[0m\n\u001b[0;32m----> 1\u001b[0;31m \u001b[0mround_to_two_places\u001b[0m\u001b[0;34m(\u001b[0m\u001b[0;36m9.9999\u001b[0m\u001b[0;34m)\u001b[0m\u001b[0;34m\u001b[0m\u001b[0m\n\u001b[0m",
            "\u001b[0;31mNameError\u001b[0m: name 'round_to_two_places' is not defined"
          ]
        }
      ]
    },
    {
      "cell_type": "code",
      "metadata": {
        "id": "nPaz9Ids5uvQ",
        "colab_type": "code",
        "colab": {}
      },
      "source": [
        "x = -10\n",
        "y = 5\n",
        "# Which of the two variables above has the smallest absolute value?\n",
        "smallest_abs = min(abs(x), abs(y))"
      ],
      "execution_count": 0,
      "outputs": []
    },
    {
      "cell_type": "code",
      "metadata": {
        "id": "OJIWkgIkmkLS",
        "colab_type": "code",
        "colab": {}
      },
      "source": [
        "print(smallest_abs)"
      ],
      "execution_count": 0,
      "outputs": []
    },
    {
      "cell_type": "code",
      "metadata": {
        "id": "jG41bZ835uvU",
        "colab_type": "code",
        "colab": {}
      },
      "source": [
        "def f(x):\n",
        "    y = abs(x)\n",
        "    return y\n",
        "\n",
        "print(f(5))"
      ],
      "execution_count": 0,
      "outputs": []
    },
    {
      "cell_type": "markdown",
      "metadata": {
        "id": "XKsqKWh35uvZ",
        "colab_type": "text"
      },
      "source": [
        "## 5. <span title=\"A bit spicy\" style=\"color: darkgreen \">🌶️</span>\n",
        "\n",
        "For this question, we'll be using two functions imported from Python's `time` module.\n",
        "\n",
        "The [time](https://docs.python.org/3/library/time.html#time.time) function returns the number of seconds that have passed since the Epoch (aka [Unix time](https://en.wikipedia.org/wiki/Unix_time)). \n",
        "\n",
        "<!-- We've provided a function called `seconds_since_epoch` which returns the number of seconds that have passed since the Epoch (aka [Unix time](https://en.wikipedia.org/wiki/Unix_time)). -->\n",
        "\n",
        "Try it out below. Each time you run it, you should get a slightly larger number."
      ]
    },
    {
      "cell_type": "code",
      "metadata": {
        "id": "cluMo1jh5uvb",
        "colab_type": "code",
        "outputId": "16edc1fe-4243-43c3-eae8-e6bfbfef468f",
        "colab": {
          "base_uri": "https://localhost:8080/",
          "height": 35
        }
      },
      "source": [
        "# Importing the function 'time' from the module of the same name. \n",
        "# (We'll discuss imports in more depth later)\n",
        "from time import time\n",
        "t = time()\n",
        "print(t, \"seconds since the Epoch\")"
      ],
      "execution_count": 0,
      "outputs": [
        {
          "output_type": "stream",
          "text": [
            "1539369287.4897268 seconds since the Epoch\n"
          ],
          "name": "stdout"
        }
      ]
    },
    {
      "cell_type": "markdown",
      "metadata": {
        "id": "wkwvxYo_5uvg",
        "colab_type": "text"
      },
      "source": [
        "We'll also be using a function called [sleep](https://docs.python.org/3/library/time.html#time.sleep), which makes us wait some number of seconds while it does nothing particular. (Sounds useful, right?)\n",
        "\n",
        "You can see it in action by running the cell below:"
      ]
    },
    {
      "cell_type": "code",
      "metadata": {
        "id": "sQVFd2t45uvh",
        "colab_type": "code",
        "outputId": "3c2a9e43-e065-4332-9d8b-8416db3d4ef8",
        "colab": {
          "base_uri": "https://localhost:8080/",
          "height": 53
        }
      },
      "source": [
        "from time import sleep\n",
        "duration = 5\n",
        "print(\"Getting sleepy. See you in\", duration, \"seconds\")\n",
        "sleep(duration)\n",
        "print(\"I'm back. What did I miss?\")"
      ],
      "execution_count": 0,
      "outputs": [
        {
          "output_type": "stream",
          "text": [
            "Getting sleepy. See you in 5 seconds\n",
            "I'm back. What did I miss?\n"
          ],
          "name": "stdout"
        }
      ]
    },
    {
      "cell_type": "markdown",
      "metadata": {
        "id": "wOqdb3CI5uvl",
        "colab_type": "text"
      },
      "source": [
        "With the help of these functions, complete the function `time_call` below according to its docstring.\n",
        "\n",
        "<!-- (The sleep function will be useful for testing here since we have a pretty good idea of what something like `time_call(sleep, 1)` should return.) -->"
      ]
    },
    {
      "cell_type": "code",
      "metadata": {
        "id": "t8qvhtxE5uvn",
        "colab_type": "code",
        "colab": {}
      },
      "source": [
        "def time_call(fn, arg):\n",
        "    \"\"\"Return the amount of time the given function takes (in seconds) when called with\n",
        "    the given argument.\n",
        "    \"\"\"\n",
        "    time_start = time()\n",
        "    fn(arg)\n",
        "    time_after = time()\n",
        "    \n",
        "    return time_after - time_start"
      ],
      "execution_count": 0,
      "outputs": []
    },
    {
      "cell_type": "code",
      "metadata": {
        "id": "3qw7d8TC8gCZ",
        "colab_type": "code",
        "outputId": "387ee1e9-02c3-42bd-c207-e8e007be8110",
        "colab": {
          "base_uri": "https://localhost:8080/",
          "height": 169
        }
      },
      "source": [
        "print(time_call(fn, 5))"
      ],
      "execution_count": 0,
      "outputs": [
        {
          "output_type": "error",
          "ename": "NameError",
          "evalue": "ignored",
          "traceback": [
            "\u001b[0;31m---------------------------------------------------------------------------\u001b[0m",
            "\u001b[0;31mNameError\u001b[0m                                 Traceback (most recent call last)",
            "\u001b[0;32m<ipython-input-14-11da4fb4bb24>\u001b[0m in \u001b[0;36m<module>\u001b[0;34m()\u001b[0m\n\u001b[0;32m----> 1\u001b[0;31m \u001b[0mprint\u001b[0m\u001b[0;34m(\u001b[0m\u001b[0mtime_call\u001b[0m\u001b[0;34m(\u001b[0m\u001b[0mfn\u001b[0m\u001b[0;34m,\u001b[0m \u001b[0;36m5\u001b[0m\u001b[0;34m)\u001b[0m\u001b[0;34m)\u001b[0m\u001b[0;34m\u001b[0m\u001b[0m\n\u001b[0m",
            "\u001b[0;31mNameError\u001b[0m: name 'fn' is not defined"
          ]
        }
      ]
    },
    {
      "cell_type": "markdown",
      "metadata": {
        "id": "laINAUlc5uvz",
        "colab_type": "text"
      },
      "source": [
        "## 6. <span title=\"A bit spicy\" style=\"color: darkgreen \">🌶️</span>\n",
        "\n",
        "*Note: this question depends on a working solution to the previous question.*\n",
        "\n",
        "Complete the function below according to its docstring."
      ]
    },
    {
      "cell_type": "code",
      "metadata": {
        "id": "BKEnK7u95uv0",
        "colab_type": "code",
        "colab": {}
      },
      "source": [
        "def slowest_call(fn, arg1, arg2, arg3):\n",
        "    \"\"\"Return the amount of time taken by the slowest of the following function\n",
        "    calls: fn(arg1), fn(arg2), fn(arg3)\n",
        "    \"\"\"\n",
        "    call1 = time_call(fn, arg1)\n",
        "    call2 = time_call(fn, arg2)\n",
        "    call3 = time_call(fn, arg3)\n",
        "    \n",
        "    return max(call1,call2, call3)\n",
        "    "
      ],
      "execution_count": 0,
      "outputs": []
    },
    {
      "cell_type": "markdown",
      "metadata": {
        "id": "N-r3aYxU5uwB",
        "colab_type": "text"
      },
      "source": [
        "\n",
        "\n",
        "## 7. <span title=\"A bit spicy\" style=\"color: darkgreen \">🌶️</span>\n",
        "\n",
        "What will Python display after we run the following (weird) code? Think carefully about the order in which Python will evaluate each part. When you have a prediction, uncomment and run the code to check whether you were correct."
      ]
    },
    {
      "cell_type": "code",
      "metadata": {
        "id": "Z_UOQoAs5uwC",
        "colab_type": "code",
        "outputId": "38154b25-3c10-47e8-fbe7-41801da28e7b",
        "colab": {
          "base_uri": "https://localhost:8080/",
          "height": 53
        }
      },
      "source": [
        "print(print(\"Spam\"))"
      ],
      "execution_count": 0,
      "outputs": [
        {
          "output_type": "stream",
          "text": [
            "Spam\n",
            "None\n"
          ],
          "name": "stdout"
        }
      ]
    },
    {
      "cell_type": "markdown",
      "metadata": {
        "id": "YCpClews5uwM",
        "colab_type": "text"
      },
      "source": [
        "## 8. <span title=\"Spicy - this optional problem is intended to be extra difficult\" style=\"color: coral\">🌶️🌶️</span>\n",
        "\n",
        "Read the function definition below. What do you think will be returned by the function call at the bottom of the cell? Will it match the docstring example? Return something else? Or will Python raise an exception? When you're ready, run the code cell to find out."
      ]
    },
    {
      "cell_type": "code",
      "metadata": {
        "id": "a1WXzGE65uwO",
        "colab_type": "code",
        "outputId": "6fe97639-8f91-4411-d55f-87ab7a7b059d",
        "colab": {
          "base_uri": "https://localhost:8080/",
          "height": 35
        }
      },
      "source": [
        "def smallest_stringy_number(s1, s2, s3):\n",
        "    \"\"\"Return whichever of the three string arguments represents the smallest number.\n",
        "    \n",
        "    >>> smallest_stringy_number('1', '2', '3')\n",
        "    '1'\n",
        "    \"\"\"\n",
        "    return min(s1, s2, s3)\n",
        "\n",
        "smallest_stringy_number('1', '2', '3')"
      ],
      "execution_count": 0,
      "outputs": [
        {
          "output_type": "execute_result",
          "data": {
            "text/plain": [
              "'1'"
            ]
          },
          "metadata": {
            "tags": []
          },
          "execution_count": 17
        }
      ]
    },
    {
      "cell_type": "markdown",
      "metadata": {
        "id": "W6wO7nfo5uwR",
        "colab_type": "text"
      },
      "source": [
        "<br/><br/><br/><br/><br/><br/><br/><br/><br/>\n",
        "\n",
        "(If you thought it would raise an exception, that's a perfectly reasonable guess. A large portion of learning Python is just trying stuff out and seeing what happens! A lot of arbitrary or at least subjective decisions go into designing a programming language, and it's not always possible to deduce from first principles how Python will handle a particular situation.)\n",
        "\n",
        "But in this case, the `min` function gamely accepts our string inputs and seems to work as desired! Or, at least on the example in the docstring. However, there's a subtle problem afoot. Try experimenting with the function to see if you can find a set of inputs where it fails. Can you see where it's going wrong?"
      ]
    },
    {
      "cell_type": "markdown",
      "metadata": {
        "id": "IZOhMXpV5uwZ",
        "colab_type": "text"
      },
      "source": [
        "### b.\n",
        "\n",
        "In the cell below, modify `smallest_stringy_number` to fix the bug you identified in part a.\n",
        "\n",
        "Reminder: [In the first lesson](https://www.kaggle.com/colinmorris/hello-python), we briefly saw that `int` can be called on strings such as `'32'` to get the corresponding integer value.\n",
        "\n",
        "**Bonus**: Can you keep the function's body down to one line? (Try to only use tools we've seen so far - i.e. no loops, conditionals, etc.)"
      ]
    },
    {
      "cell_type": "code",
      "metadata": {
        "id": "26KaBlPP5uwb",
        "colab_type": "code",
        "colab": {}
      },
      "source": [
        "def smallest_stringy_number(s1, s2, s3):\n",
        "    \"\"\"Return whichever of the three string arguments represents the smallest number.\n",
        "    \n",
        "    >>> smallest_stringy_number('1', '2', '3')\n",
        "    '1'\n",
        "    \"\"\"\n",
        "    return min(s1, s2, s3)\n",
        "\n",
        "q8.b.check()"
      ],
      "execution_count": 0,
      "outputs": []
    }
  ]
}