{
  "nbformat": 4,
  "nbformat_minor": 0,
  "metadata": {
    "colab": {
      "name": "LR.ipynb",
      "version": "0.3.2",
      "provenance": [],
      "collapsed_sections": [],
      "include_colab_link": true
    }
  },
  "cells": [
    {
      "cell_type": "markdown",
      "metadata": {
        "id": "view-in-github",
        "colab_type": "text"
      },
      "source": [
        "<a href=\"https://colab.research.google.com/github/ShabatA/AI-course/blob/master/ML/LR.ipynb\" target=\"_parent\"><img src=\"https://colab.research.google.com/assets/colab-badge.svg\" alt=\"Open In Colab\"/></a>"
      ]
    },
    {
      "metadata": {
        "id": "4UJ69tmcURFg",
        "colab_type": "text"
      },
      "cell_type": "markdown",
      "source": [
        "# Linear Regression"
      ]
    },
    {
      "metadata": {
        "id": "xOt6FsZ4UQK8",
        "colab_type": "code",
        "colab": {}
      },
      "cell_type": "code",
      "source": [
        "from sklearn import linear_model\n",
        "import matplotlib.pyplot as plt\n",
        "\n",
        "%matplotlib inline"
      ],
      "execution_count": 0,
      "outputs": []
    },
    {
      "metadata": {
        "id": "Y3Rg7lw7UoEb",
        "colab_type": "text"
      },
      "cell_type": "markdown",
      "source": [
        "We know that the equation of a line is given by $y=mx+b$, where m is the slope and b is the intercept.\n",
        "\n",
        "Our goal is to find the best values of slope ($m$) and intercept ($b$) to fit our data."
      ]
    },
    {
      "metadata": {
        "id": "slo8DN-yUjqI",
        "colab_type": "code",
        "colab": {}
      },
      "cell_type": "code",
      "source": [
        "height=[[1.47],[1.50],[1.52],[1.55],[1.57],[1.6],[1.63],[1.65],\n",
        "        [1.68],[1.70]]\n",
        "weight=[41, 43, 44, 45, 47, 49, 50, 52, 54, 55]"
      ],
      "execution_count": 0,
      "outputs": []
    },
    {
      "metadata": {
        "id": "wk9v6y-WVZMz",
        "colab_type": "text"
      },
      "cell_type": "markdown",
      "source": [
        "I have the height and weight data of people in Age 19."
      ]
    },
    {
      "metadata": {
        "id": "731R-dZ5VRSo",
        "colab_type": "code",
        "outputId": "c1116c91-80b5-4ace-f0f0-e297c89bca63",
        "colab": {
          "base_uri": "https://localhost:8080/",
          "height": 204
        }
      },
      "cell_type": "code",
      "source": [
        "print(\"height weight\")\n",
        "for row in zip(height, weight):\n",
        "    print(row[0][0],\"->\",row[1])"
      ],
      "execution_count": 0,
      "outputs": [
        {
          "output_type": "stream",
          "text": [
            "height weight\n",
            "(1.47, '->', 41)\n",
            "(1.5, '->', 43)\n",
            "(1.52, '->', 44)\n",
            "(1.55, '->', 45)\n",
            "(1.57, '->', 47)\n",
            "(1.6, '->', 49)\n",
            "(1.63, '->', 50)\n",
            "(1.65, '->', 52)\n",
            "(1.68, '->', 54)\n",
            "(1.7, '->', 55)\n"
          ],
          "name": "stdout"
        }
      ]
    },
    {
      "metadata": {
        "id": "ajeNTU0XVT_4",
        "colab_type": "code",
        "outputId": "8f8ed993-057d-4101-a625-7d479a210764",
        "colab": {
          "base_uri": "https://localhost:8080/",
          "height": 296
        }
      },
      "cell_type": "code",
      "source": [
        "plt.scatter(height,weight,color='black')\n",
        "plt.xlabel(\"height\")\n",
        "plt.ylabel(\"weight\")"
      ],
      "execution_count": 0,
      "outputs": [
        {
          "output_type": "execute_result",
          "data": {
            "text/plain": [
              "Text(0,0.5,u'weight')"
            ]
          },
          "metadata": {
            "tags": []
          },
          "execution_count": 11
        },
        {
          "output_type": "display_data",
          "data": {
            "image/png": "[encoded data removed]",
            "text/plain": [
              "<matplotlib.figure.Figure at 0x7fe0e157a890>"
            ]
          },
          "metadata": {
            "tags": []
          }
        }
      ]
    },
    {
      "metadata": {
        "id": "ypBdrNl3Vywo",
        "colab_type": "code",
        "outputId": "1c1ec062-0316-4e52-f16d-784eadf338c1",
        "colab": {
          "base_uri": "https://localhost:8080/",
          "height": 34
        }
      },
      "cell_type": "code",
      "source": [
        "reg=linear_model.LinearRegression()\n",
        "reg.fit(height,weight)"
      ],
      "execution_count": 0,
      "outputs": [
        {
          "output_type": "execute_result",
          "data": {
            "text/plain": [
              "LinearRegression(copy_X=True, fit_intercept=True, n_jobs=1, normalize=False)"
            ]
          },
          "metadata": {
            "tags": []
          },
          "execution_count": 12
        }
      ]
    },
    {
      "metadata": {
        "id": "-KWMmK9TV5_Q",
        "colab_type": "code",
        "outputId": "81e48650-db63-4490-9760-e589f1f10dc9",
        "colab": {
          "base_uri": "https://localhost:8080/",
          "height": 34
        }
      },
      "cell_type": "code",
      "source": [
        "m=reg.coef_[0]\n",
        "b=reg.intercept_\n",
        "print(\"slope=\",m, \"intercept=\",b)"
      ],
      "execution_count": 0,
      "outputs": [
        {
          "output_type": "stream",
          "text": [
            "('slope=', 61.120233534026674, 'intercept=', -48.99781061850031)\n"
          ],
          "name": "stdout"
        }
      ]
    },
    {
      "metadata": {
        "id": "0JfYG3JOV8xo",
        "colab_type": "code",
        "outputId": "4bc57ce6-a271-43bf-8668-d412df7de531",
        "colab": {
          "base_uri": "https://localhost:8080/",
          "height": 296
        }
      },
      "cell_type": "code",
      "source": [
        "plt.scatter(height,weight,color='black')\n",
        "predicted_values = [reg.coef_ * i + reg.intercept_ for i in height]\n",
        "plt.plot(height, predicted_values, 'b')\n",
        "plt.xlabel(\"height\")\n",
        "plt.ylabel(\"weight\")"
      ],
      "execution_count": 0,
      "outputs": [
        {
          "output_type": "execute_result",
          "data": {
            "text/plain": [
              "Text(0,0.5,u'weight')"
            ]
          },
          "metadata": {
            "tags": []
          },
          "execution_count": 14
        },
        {
          "output_type": "display_data",
          "data": {
            "image/png": "[encoded data removed]",
            "text/plain": [
              "<matplotlib.figure.Figure at 0x7fe0db31ee10>"
            ]
          },
          "metadata": {
            "tags": []
          }
        }
      ]
    },
    {
      "metadata": {
        "id": "Ku_NN_V4WBTH",
        "colab_type": "code",
        "colab": {}
      },
      "cell_type": "code",
      "source": [
        ""
      ],
      "execution_count": 0,
      "outputs": []
    }
  ]
}