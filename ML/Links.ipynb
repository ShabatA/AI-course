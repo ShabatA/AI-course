{
  "nbformat": 4,
  "nbformat_minor": 0,
  "metadata": {
    "colab": {
      "name": "Links.ipynb",
      "version": "0.3.2",
      "provenance": [],
      "include_colab_link": true
    },
    "kernelspec": {
      "name": "python3",
      "display_name": "Python 3"
    }
  },
  "cells": [
    {
      "cell_type": "markdown",
      "metadata": {
        "id": "view-in-github",
        "colab_type": "text"
      },
      "source": [
        "<a href=\"https://colab.research.google.com/github/ShabatA/AI-course/blob/master/ML/Links.ipynb\" target=\"_parent\"><img src=\"https://colab.research.google.com/assets/colab-badge.svg\" alt=\"Open In Colab\"/></a>"
      ]
    },
    {
      "metadata": {
        "id": "72Gj8Bb0N7BV",
        "colab_type": "text"
      },
      "cell_type": "markdown",
      "source": [
        "Name: Dr. Abuobayda Shabat\n",
        "\n",
        "Email: abshabat@gmail.com"
      ]
    },
    {
      "metadata": {
        "id": "IfLAGWg0NT5Z",
        "colab_type": "text"
      },
      "cell_type": "markdown",
      "source": [
        "Courses:"
      ]
    },
    {
      "metadata": {
        "id": "Aj4jhiZcNxt9",
        "colab_type": "text"
      },
      "cell_type": "markdown",
      "source": [
        "1.  https://cognitiveclass.ai (IBM)\n",
        "2.  https://www.edx.org/course?search_query=machine+learning\n",
        "3.  https://www.datacamp.com/\n",
        "4.  https://www.coursera.org/\n",
        "5.  https://www.udacity.com/\n",
        "\n",
        "\n",
        "\n"
      ]
    },
    {
      "metadata": {
        "id": "POzh7eosNZTO",
        "colab_type": "text"
      },
      "cell_type": "markdown",
      "source": [
        "Datasets:\n",
        "\n",
        "\n",
        "1.   https://toolbox.google.com/datasetsearch\n",
        "2.   UCI Machine Learning\n",
        "3.   OpenML\n",
        "4.   Kaggle\n",
        "\n"
      ]
    }
  ]
}